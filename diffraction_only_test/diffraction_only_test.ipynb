{
 "cells": [
  {
   "cell_type": "markdown",
   "metadata": {},
   "source": [
    "# DiffractionOnly_v1 Overlay Test\n",
    "\n",
    "Este notebook carga el overlay `DiffractionOnly_v1` y compara la salida del kernel con una implementación en software.\n",
    "Asegúrate de colocar `DiffractionOnly_v1.bit` y `DiffractionOnly_v1.hwh` en esta carpeta antes de ejecutar."
   ]
  },
  {
   "cell_type": "code",
   "metadata": {},
   "execution_count": null,
   "outputs": [],
   "source": [
    "from pynq import Overlay, allocate\n",
    "import numpy as np\n",
    "import matplotlib.pyplot as plt\n",
    "import time\n",
    "from deep_tissue_imaging.elementos.lasers import fuente_microscopia_1 as laser, campo_tem00\n",
    "from deep_tissue_imaging.elementos.tejidos import cerebro_emb_pez_cebra as tejido\n",
    "from deep_tissue_imaging.propagators.step_operators import adi_x, adi_y\n",
    "\n",
    "def plot_magnitude(field, title):\n",
    "    plt.figure()\n",
    "    plt.imshow(np.abs(field), cmap='viridis')\n",
    "    plt.colorbar()\n",
    "    plt.title(title)\n",
    "    plt.show()\n"
   ]
  },
  {
   "cell_type": "code",
   "execution_count": null,
   "metadata": {},
   "outputs": [],
   "source": [
    "# Cargar overlay\n",
    "ol = Overlay('DiffractionOnly_v1.bit')\n",
    "print('IPs disponibles:', list(ol.ip_dict.keys()))\n",
    "ip_name = [k for k in ol.ip_dict if 'diffraction' in k][0]\n",
    "ip = getattr(ol, ip_name)\n"
   ]
  },
  {
   "cell_type": "code",
   "metadata": {},
   "execution_count": null,
   "outputs": [],
   "source": [
    "# Configurar dominio y campo inicial\n",
    "Lz = np.float32(361e-6)\n",
    "Nz = 361\n",
    "dz = np.float32(Lz / Nz)\n",
    "Lx = Ly = np.float32(45e-6)\n",
    "Nx = Ny = 256\n",
    "dx = np.float32(Lx / Nx)\n",
    "dy = np.float32(Ly / Ny)\n",
    "x = np.linspace(-Lx/2, Lx/2, Nx, dtype=np.float32)\n",
    "y = np.linspace(-Ly/2, Ly/2, Ny, dtype=np.float32)\n",
    "X, Y = np.meshgrid(x, y)\n",
    "phi0 = campo_tem00(X, Y, laser.w0, laser.I_peak)\n",
    "\n",
    "k0 = np.float32(2*np.pi / laser.wavelength)\n",
    "k = np.float32(k0 * tejido.n_0)\n",
    "eps = np.float32(1e-12)\n",
    "\n",
    "plot_magnitude(phi0, 'Perfil inicial |phi0|')\n"
   ]
  },
  {
   "cell_type": "code",
   "metadata": {},
   "execution_count": null,
   "outputs": [],
   "source": [
    "# Implementación en software usando ADI\n",
    "def diffraction_sw(phi):\n",
    "    tmp = adi_x(phi, Ny, eps, k, dz, dx)\n",
    "    return adi_y(tmp, Nx, eps, k, dz, dy)\n"
   ]
  },
  {
   "cell_type": "code",
   "metadata": {},
   "execution_count": null,
   "outputs": [],
   "source": [
    "# Ejecutar en software\n",
    "t0 = time.time()\n",
    "sw_out = diffraction_sw(phi0)\n",
    "sw_time = time.time() - t0\n",
    "print(f'Software time: {sw_time*1e3:.2f} ms')\n",
    "plot_magnitude(sw_out, '|phi| después de SW')\n"
   ]
  },
  {
   "cell_type": "code",
   "metadata": {},
   "execution_count": null,
   "outputs": [],
   "source": [
    "# Ejecutar en hardware\n",
    "N = Nx * Ny\n",
    "in_buffer = allocate(shape=(N,), dtype=np.complex64)\n",
    "out_buffer = allocate(shape=(N,), dtype=np.complex64)\n",
    "np.copyto(in_buffer, phi0.reshape(-1))\n",
    "\n",
    "t0 = time.time()\n",
    "ip.write(0x10, in_buffer.physical_address)\n",
    "ip.write(0x18, out_buffer.physical_address)\n",
    "ip.write(0x00, 1)  # ap_start\n",
    "while (ip.read(0x00) & 0x2) == 0:\n",
    "    pass\n",
    "hw_time = time.time() - t0\n",
    "hw_out = np.array(out_buffer).reshape(Nx, Ny)\n",
    "print(f'Hardware time: {hw_time*1e3:.2f} ms')\n",
    "plot_magnitude(hw_out, '|phi| después de HW')\n"
   ]
  },
  {
   "cell_type": "code",
   "metadata": {},
   "execution_count": null,
   "outputs": [],
   "source": [
    "# Validación\n",
    "diff = np.abs(sw_out - hw_out)\n",
    "print('Max error:', diff.max())\n",
    "print('HW faster by {:.2f}x'.format(sw_time / hw_time))\n"
   ]
  }
 ],
 "metadata": {
  "kernelspec": {
   "display_name": "Python 3",
   "language": "python",
   "name": "python3"
  },
  "language_info": {
   "codemirror_mode": {
    "name": "ipython",
    "version": 3
   },
   "file_extension": ".py",
   "mimetype": "text/x-python",
   "name": "python",
   "nbconvert_exporter": "python",
   "pygments_lexer": "ipython3",
   "version": "3.8"
  }
 },
 "nbformat": 4,
 "nbformat_minor": 5
}