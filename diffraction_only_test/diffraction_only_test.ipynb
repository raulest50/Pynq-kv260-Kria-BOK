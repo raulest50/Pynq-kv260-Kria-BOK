{
 "cells": [
  {
   "cell_type": "markdown",
   "id": "a49e749c",
   "metadata": {},
   "source": [
    "# DiffractionOnly_v1 Overlay Test\n",
    "\n",
    "Este notebook carga el overlay `DiffractionOnly_v1` y compara la salida del kernel con una implementación en software.\n",
    "Asegúrate de colocar `DiffractionOnly_v1.bit` y `DiffractionOnly_v1.hwh` en esta carpeta antes de ejecutar."
   ]
  },
  {
   "cell_type": "code",
   "execution_count": 9,
   "id": "e9d767c9",
   "metadata": {},
   "outputs": [],
   "source": [
    "from pynq import Overlay, allocate\n",
    "import numpy as np\n",
    "import matplotlib.pyplot as plt\n",
    "import time, sys\n",
    "sys.path.append('../Deep_Tissue_Imaging_Acceleration/dti_reference_implementation')\n",
    "from deep_tissue_imaging.elementos.lasers import fuente_microscopia_1 as laser, campo_tem00\n",
    "from deep_tissue_imaging.elementos.tejidos import cerebro_emb_pez_cebra as tejido\n",
    "from deep_tissue_imaging.propagators.step_operators import adi_x, adi_y\n",
    "\n",
    "def plot_magnitude(field, title):\n",
    "    plt.figure()\n",
    "    plt.imshow(np.abs(field), cmap='viridis')\n",
    "    plt.colorbar()\n",
    "    plt.title(title)\n",
    "    plt.show()\n"
   ]
  },
  {
   "cell_type": "code",
   "execution_count": 8,
   "id": "1daf1dbf",
   "metadata": {},
   "outputs": [
    {
     "ename": "AttributeError",
     "evalue": "Could not find IP or hierarchy diffraction_only_v1_0 in overlay",
     "output_type": "error",
     "traceback": [
      "\u001b[0;31m---------------------------------------------------------------------------\u001b[0m",
      "\u001b[0;31mAttributeError\u001b[0m                            Traceback (most recent call last)",
      "Input \u001b[0;32mIn [8]\u001b[0m, in \u001b[0;36m<cell line: 5>\u001b[0;34m()\u001b[0m\n\u001b[1;32m      2\u001b[0m ol \u001b[38;5;241m=\u001b[39m Overlay(\u001b[38;5;124m'\u001b[39m\u001b[38;5;124mdiffraction_ovr.bit\u001b[39m\u001b[38;5;124m'\u001b[39m)\n\u001b[1;32m      4\u001b[0m \u001b[38;5;66;03m# Instancia del IP - cambia el nombre si es diferente\u001b[39;00m\n\u001b[0;32m----> 5\u001b[0m ip \u001b[38;5;241m=\u001b[39m \u001b[43mol\u001b[49m\u001b[38;5;241;43m.\u001b[39;49m\u001b[43mdiffraction_only_v1_0\u001b[49m\n",
      "File \u001b[0;32m/usr/local/share/pynq-venv/lib/python3.10/site-packages/pynq/overlay.py:363\u001b[0m, in \u001b[0;36mOverlay.__getattr__\u001b[0;34m(self, key)\u001b[0m\n\u001b[1;32m    358\u001b[0m \u001b[38;5;250m\u001b[39m\u001b[38;5;124;03m\"\"\"Overload of __getattr__ to return a driver for an IP or\u001b[39;00m\n\u001b[1;32m    359\u001b[0m \u001b[38;5;124;03mhierarchy. Throws an `RuntimeError` if the overlay is not loaded.\u001b[39;00m\n\u001b[1;32m    360\u001b[0m \n\u001b[1;32m    361\u001b[0m \u001b[38;5;124;03m\"\"\"\u001b[39;00m\n\u001b[1;32m    362\u001b[0m \u001b[38;5;28;01mif\u001b[39;00m \u001b[38;5;28mself\u001b[39m\u001b[38;5;241m.\u001b[39mis_loaded():\n\u001b[0;32m--> 363\u001b[0m     \u001b[38;5;28;01mreturn\u001b[39;00m \u001b[38;5;28;43mgetattr\u001b[39;49m\u001b[43m(\u001b[49m\u001b[38;5;28;43mself\u001b[39;49m\u001b[38;5;241;43m.\u001b[39;49m\u001b[43m_ip_map\u001b[49m\u001b[43m,\u001b[49m\u001b[43m \u001b[49m\u001b[43mkey\u001b[49m\u001b[43m)\u001b[49m\n\u001b[1;32m    364\u001b[0m \u001b[38;5;28;01melse\u001b[39;00m:\n\u001b[1;32m    365\u001b[0m     \u001b[38;5;28;01mraise\u001b[39;00m \u001b[38;5;167;01mRuntimeError\u001b[39;00m(\u001b[38;5;124m\"\u001b[39m\u001b[38;5;124mOverlay not currently loaded\u001b[39m\u001b[38;5;124m\"\u001b[39m)\n",
      "File \u001b[0;32m/usr/local/share/pynq-venv/lib/python3.10/site-packages/pynq/overlay.py:931\u001b[0m, in \u001b[0;36m_IPMap.__getattr__\u001b[0;34m(self, key)\u001b[0m\n\u001b[1;32m    929\u001b[0m     \u001b[38;5;28;01mreturn\u001b[39;00m mem\n\u001b[1;32m    930\u001b[0m \u001b[38;5;28;01melse\u001b[39;00m:\n\u001b[0;32m--> 931\u001b[0m     \u001b[38;5;28;01mraise\u001b[39;00m \u001b[38;5;167;01mAttributeError\u001b[39;00m(\n\u001b[1;32m    932\u001b[0m         \u001b[38;5;124m\"\u001b[39m\u001b[38;5;124mCould not find IP or hierarchy \u001b[39m\u001b[38;5;132;01m{}\u001b[39;00m\u001b[38;5;124m in overlay\u001b[39m\u001b[38;5;124m\"\u001b[39m\u001b[38;5;241m.\u001b[39mformat(key)\n\u001b[1;32m    933\u001b[0m     )\n",
      "\u001b[0;31mAttributeError\u001b[0m: Could not find IP or hierarchy diffraction_only_v1_0 in overlay"
     ]
    }
   ],
   "source": [
    "# Cargar overlay\n",
    "ol = Overlay('diffraction_ovr.bit')\n",
    "\n",
    "# Instancia del IP - cambia el nombre si es diferente\n",
    "ip = ol.diffraction_only_v1_0"
   ]
  },
  {
   "cell_type": "code",
   "execution_count": null,
   "id": "02198a95",
   "metadata": {},
   "outputs": [],
   "source": [
    "# Configurar dominio y campo inicial\n",
    "Lz = np.float32(361e-6)\n",
    "Nz = 361\n",
    "dz = np.float32(Lz / Nz)\n",
    "Lx = Ly = np.float32(45e-6)\n",
    "Nx = Ny = 256\n",
    "dx = np.float32(Lx / Nx)\n",
    "dy = np.float32(Ly / Ny)\n",
    "x = np.linspace(-Lx/2, Lx/2, Nx, dtype=np.float32)\n",
    "y = np.linspace(-Ly/2, Ly/2, Ny, dtype=np.float32)\n",
    "X, Y = np.meshgrid(x, y)\n",
    "phi0 = campo_tem00(X, Y, laser.w0, laser.I_peak)\n",
    "\n",
    "k0 = np.float32(2*np.pi / laser.wavelength)\n",
    "k = np.float32(k0 * tejido.n_0)\n",
    "eps = np.float32(1e-12)\n",
    "\n",
    "plot_magnitude(phi0, 'Perfil inicial |phi0|')\n"
   ]
  },
  {
   "cell_type": "code",
   "execution_count": null,
   "id": "74e7c687",
   "metadata": {},
   "outputs": [],
   "source": [
    "# Implementación en software usando ADI\n",
    "def diffraction_sw(phi):\n",
    "    tmp = adi_x(phi, Ny, eps, k, dz, dx)\n",
    "    return adi_y(tmp, Nx, eps, k, dz, dy)\n"
   ]
  },
  {
   "cell_type": "code",
   "execution_count": null,
   "id": "88c5a604",
   "metadata": {},
   "outputs": [],
   "source": [
    "# Ejecutar en software\n",
    "t0 = time.time()\n",
    "sw_out = diffraction_sw(phi0)\n",
    "sw_time = time.time() - t0\n",
    "print(f'Software time: {sw_time*1e3:.2f} ms')\n",
    "plot_magnitude(sw_out, '|phi| después de SW')\n"
   ]
  },
  {
   "cell_type": "code",
   "execution_count": null,
   "id": "5e91cace",
   "metadata": {},
   "outputs": [],
   "source": [
    "# Ejecutar en hardware\n",
    "N = Nx * Ny\n",
    "in_buffer = allocate(shape=(N,), dtype=np.complex64)\n",
    "out_buffer = allocate(shape=(N,), dtype=np.complex64)\n",
    "np.copyto(in_buffer, phi0.reshape(-1))\n",
    "\n",
    "t0 = time.time()\n",
    "ip.write(0x10, in_buffer.physical_address)\n",
    "ip.write(0x18, out_buffer.physical_address)\n",
    "ip.write(0x00, 1)  # ap_start\n",
    "while (ip.read(0x00) & 0x2) == 0:\n",
    "    pass\n",
    "hw_time = time.time() - t0\n",
    "hw_out = np.array(out_buffer).reshape(Nx, Ny)\n",
    "print(f'Hardware time: {hw_time*1e3:.2f} ms')\n",
    "plot_magnitude(hw_out, '|phi| después de HW')\n"
   ]
  },
  {
   "cell_type": "code",
   "execution_count": null,
   "id": "0d9cfc30",
   "metadata": {},
   "outputs": [],
   "source": [
    "# Validación\n",
    "diff = np.abs(sw_out - hw_out)\n",
    "print('Max error:', diff.max())\n",
    "print('HW faster by {:.2f}x'.format(sw_time / hw_time))\n"
   ]
  }
 ],
 "metadata": {
  "kernelspec": {
   "display_name": "Python 3 (ipykernel)",
   "language": "python",
   "name": "python3"
  },
  "language_info": {
   "codemirror_mode": {
    "name": "ipython",
    "version": 3
   },
   "file_extension": ".py",
   "mimetype": "text/x-python",
   "name": "python",
   "nbconvert_exporter": "python",
   "pygments_lexer": "ipython3",
   "version": "3.10.12"
  }
 },
 "nbformat": 4,
 "nbformat_minor": 5
}
