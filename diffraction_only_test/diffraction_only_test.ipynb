{
 "cells": [
  {
   "cell_type": "markdown",
   "id": "a49e749c",
   "metadata": {},
   "source": [
    "# DiffractionOnly_v1 Overlay Test\n",
    "\n",
    "Este notebook carga el overlay `DiffractionOnly_v1` y compara la salida del kernel con una implementación en software.\n",
    "Asegúrate de colocar `DiffractionOnly_v1.bit` y `DiffractionOnly_v1.hwh` en esta carpeta antes de ejecutar."
   ]
  },
  {
   "cell_type": "code",
   "execution_count": 1,
   "id": "e9d767c9",
   "metadata": {},
   "outputs": [],
   "source": [
    "from pynq import Overlay, allocate\n",
    "import numpy as np\n",
    "import matplotlib.pyplot as plt\n",
    "import time, sys\n",
    "sys.path.append('../Deep_Tissue_Imaging_Acceleration/dti_reference_implementation')\n",
    "from deep_tissue_imaging.elementos.lasers import fuente_microscopia_1 as laser, campo_tem00\n",
    "from deep_tissue_imaging.elementos.tejidos import cerebro_emb_pez_cebra as tejido\n",
    "from deep_tissue_imaging.propagators.step_operators import adi_x, adi_y\n",
    "\n",
    "def plot_magnitude(field, title):\n",
    "    plt.figure()\n",
    "    plt.imshow(np.abs(field), cmap='viridis')\n",
    "    plt.colorbar()\n",
    "    plt.title(title)\n",
    "    plt.show()\n"
   ]
  },
  {
   "cell_type": "code",
   "execution_count": 2,
   "id": "1daf1dbf",
   "metadata": {},
   "outputs": [
    {
     "data": {
      "application/javascript": [
       "\n",
       "try {\n",
       "require(['notebook/js/codecell'], function(codecell) {\n",
       "  codecell.CodeCell.options_default.highlight_modes[\n",
       "      'magic_text/x-csrc'] = {'reg':[/^%%microblaze/]};\n",
       "  Jupyter.notebook.events.one('kernel_ready.Kernel', function(){\n",
       "      Jupyter.notebook.get_cells().map(function(cell){\n",
       "          if (cell.cell_type == 'code'){ cell.auto_highlight(); } }) ;\n",
       "  });\n",
       "});\n",
       "} catch (e) {};\n"
      ]
     },
     "metadata": {},
     "output_type": "display_data"
    },
    {
     "data": {
      "application/javascript": [
       "\n",
       "try {\n",
       "require(['notebook/js/codecell'], function(codecell) {\n",
       "  codecell.CodeCell.options_default.highlight_modes[\n",
       "      'magic_text/x-csrc'] = {'reg':[/^%%pybind11/]};\n",
       "  Jupyter.notebook.events.one('kernel_ready.Kernel', function(){\n",
       "      Jupyter.notebook.get_cells().map(function(cell){\n",
       "          if (cell.cell_type == 'code'){ cell.auto_highlight(); } }) ;\n",
       "  });\n",
       "});\n",
       "} catch (e) {};\n"
      ]
     },
     "metadata": {},
     "output_type": "display_data"
    },
    {
     "name": "stdout",
     "output_type": "stream",
     "text": [
      "Help on Overlay in module pynq.overlay:\n",
      "\n",
      "<pynq.overlay.Overlay object>\n",
      "    Default documentation for overlay diffraction_ovr.bit. The following\n",
      "    attributes are available on this overlay:\n",
      "    \n",
      "    IP Blocks\n",
      "    ----------\n",
      "    axi_intc_0           : pynq.overlay.DefaultIP\n",
      "    diffraction_only_0   : pynq.overlay.DefaultIP\n",
      "    zynq_ultra_ps_e_0    : pynq.overlay.DefaultIP\n",
      "    \n",
      "    Hierarchies\n",
      "    -----------\n",
      "    None\n",
      "    \n",
      "    Interrupts\n",
      "    ----------\n",
      "    None\n",
      "    \n",
      "    GPIO Outputs\n",
      "    ------------\n",
      "    None\n",
      "    \n",
      "    Memories\n",
      "    ------------\n",
      "    PSDDR                : Memory\n",
      "\n"
     ]
    }
   ],
   "source": [
    "# Cargar overlay\n",
    "ol = Overlay('diffraction_ovr.bit')\n",
    "help(ol)\n"
   ]
  },
  {
   "cell_type": "code",
   "execution_count": 3,
   "id": "9fe836af-a77a-48ff-806e-96d4b3ef622e",
   "metadata": {},
   "outputs": [
    {
     "name": "stdout",
     "output_type": "stream",
     "text": [
      "RegisterMap {\n",
      "  CTRL = Register(AP_START=0, AP_DONE=0, AP_IDLE=1, AP_READY=0, RESERVED_1=0, AUTO_RESTART=0, RESERVED_2=0, INTERRUPT=0, RESERVED_3=0),\n",
      "  GIER = Register(Enable=0, RESERVED=0),\n",
      "  IP_IER = Register(CHAN0_INT_EN=0, CHAN1_INT_EN=0, RESERVED_0=0),\n",
      "  IP_ISR = Register(CHAN0_INT_ST=0, CHAN1_INT_ST=0, RESERVED_0=0),\n",
      "  phi_in_1 = Register(phi_in=write-only),\n",
      "  phi_in_2 = Register(phi_in=write-only),\n",
      "  phi_out_1 = Register(phi_out=write-only),\n",
      "  phi_out_2 = Register(phi_out=write-only)\n",
      "}\n"
     ]
    }
   ],
   "source": [
    "# Instancia del IP - cambia el nombre si es diferente\n",
    "ip = ol.diffraction_only_0\n",
    "print(ip.register_map)"
   ]
  },
  {
   "cell_type": "code",
   "execution_count": 7,
   "id": "02198a95",
   "metadata": {},
   "outputs": [
    {
     "data": {
      "image/png": "[encoded data removed]",
      "text/plain": [
       "<Figure size 432x288 with 2 Axes>"
      ]
     },
     "metadata": {
      "needs_background": "light"
     },
     "output_type": "display_data"
    }
   ],
   "source": [
    "# Configurar dominio y campo inicial\n",
    "Lz = np.float32(361e-6)\n",
    "Nz = 361\n",
    "dz = np.float32(Lz / Nz)\n",
    "Lx = Ly = np.float32(45e-6)\n",
    "Nx = Ny = 256\n",
    "dx = np.float32(Lx / Nx)\n",
    "dy = np.float32(Ly / Ny)\n",
    "x = np.linspace(-Lx/2, Lx/2, Nx, dtype=np.float32)\n",
    "y = np.linspace(-Ly/2, Ly/2, Ny, dtype=np.float32)\n",
    "X, Y = np.meshgrid(x, y)\n",
    "phi0 = campo_tem00(X, Y, laser.w0, laser.I_peak)\n",
    "\n",
    "k0 = np.float32(2*np.pi / laser.wavelength)\n",
    "k = np.float32(k0 * tejido.n_0)\n",
    "eps = np.float32(1e-12)\n",
    "\n",
    "plot_magnitude(phi0, 'Perfil inicial |phi0|')\n"
   ]
  },
  {
   "cell_type": "code",
   "execution_count": 8,
   "id": "74e7c687",
   "metadata": {},
   "outputs": [],
   "source": [
    "# Implementación en software usando ADI\n",
    "def diffraction_sw(phi):\n",
    "    tmp = adi_x(phi, Ny, eps, k, dz, dx)\n",
    "    return adi_y(tmp, Nx, eps, k, dz, dy)\n"
   ]
  },
  {
   "cell_type": "code",
   "execution_count": 9,
   "id": "88c5a604",
   "metadata": {},
   "outputs": [
    {
     "name": "stdout",
     "output_type": "stream",
     "text": [
      "Software time: 2824.35 ms\n"
     ]
    },
    {
     "data": {
      "image/png": "[encoded data removed]",
      "text/plain": [
       "<Figure size 432x288 with 2 Axes>"
      ]
     },
     "metadata": {
      "needs_background": "light"
     },
     "output_type": "display_data"
    }
   ],
   "source": [
    "# Ejecutar en software\n",
    "t0 = time.time()\n",
    "sw_out = diffraction_sw(phi0)\n",
    "sw_time = time.time() - t0\n",
    "print(f'Software time: {sw_time*1e3:.2f} ms')\n",
    "plot_magnitude(sw_out, '|phi| después de SW')\n"
   ]
  },
  {
   "cell_type": "code",
   "execution_count": 10,
   "id": "5e91cace",
   "metadata": {},
   "outputs": [
    {
     "name": "stdout",
     "output_type": "stream",
     "text": [
      "Hardware time: 5.17 ms\n"
     ]
    },
    {
     "data": {
      "image/png": "[encoded data removed]",
      "text/plain": [
       "<Figure size 432x288 with 2 Axes>"
      ]
     },
     "metadata": {
      "needs_background": "light"
     },
     "output_type": "display_data"
    }
   ],
   "source": [
    "# Ejecutar en hardware\n",
    "N = Nx * Ny\n",
    "in_buffer = allocate(shape=(N,), dtype=np.complex64)\n",
    "out_buffer = allocate(shape=(N,), dtype=np.complex64)\n",
    "np.copyto(in_buffer, phi0.reshape(-1))\n",
    "\n",
    "t0 = time.time()\n",
    "ip.write(0x10, in_buffer.physical_address)\n",
    "ip.write(0x18, out_buffer.physical_address)\n",
    "ip.write(0x00, 1)  # ap_start\n",
    "while (ip.read(0x00) & 0x2) == 0:\n",
    "    pass\n",
    "hw_time = time.time() - t0\n",
    "hw_out = np.array(out_buffer).reshape(Nx, Ny)\n",
    "print(f'Hardware time: {hw_time*1e3:.2f} ms')\n",
    "plot_magnitude(hw_out, '|phi| después de HW')\n"
   ]
  },
  {
   "cell_type": "code",
   "execution_count": 11,
   "id": "0d9cfc30",
   "metadata": {},
   "outputs": [
    {
     "name": "stdout",
     "output_type": "stream",
     "text": [
      "Max error: 99805.45\n",
      "HW faster by 546.11x\n"
     ]
    }
   ],
   "source": [
    "# Validación\n",
    "diff = np.abs(sw_out - hw_out)\n",
    "print('Max error:', diff.max())\n",
    "print('HW faster by {:.2f}x'.format(sw_time / hw_time))\n"
   ]
  },
  {
   "cell_type": "code",
   "execution_count": null,
   "id": "f2b79409-8f59-44c6-8346-fb824619f870",
   "metadata": {},
   "outputs": [],
   "source": []
  }
 ],
 "metadata": {
  "kernelspec": {
   "display_name": "Python 3 (ipykernel)",
   "language": "python",
   "name": "python3"
  },
  "language_info": {
   "codemirror_mode": {
    "name": "ipython",
    "version": 3
   },
   "file_extension": ".py",
   "mimetype": "text/x-python",
   "name": "python",
   "nbconvert_exporter": "python",
   "pygments_lexer": "ipython3",
   "version": "3.10.12"
  }
 },
 "nbformat": 4,
 "nbformat_minor": 5
}
