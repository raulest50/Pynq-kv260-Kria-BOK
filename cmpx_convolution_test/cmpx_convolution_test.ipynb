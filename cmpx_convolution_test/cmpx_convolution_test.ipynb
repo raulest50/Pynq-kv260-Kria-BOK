{
 "cells": [
  {
   "cell_type": "code",
   "execution_count": 1,
   "id": "7578561e-64bd-460b-a222-14cd0b6741a7",
   "metadata": {},
   "outputs": [],
   "source": [
    "import numpy as np\n",
    "import time\n",
    "from pynq import Overlay, allocate"
   ]
  },
  {
   "cell_type": "code",
   "execution_count": 3,
   "id": "366f68e3-15be-46e0-9178-412bcd65ea7b",
   "metadata": {},
   "outputs": [
    {
     "data": {
      "application/javascript": [
       "\n",
       "try {\n",
       "require(['notebook/js/codecell'], function(codecell) {\n",
       "  codecell.CodeCell.options_default.highlight_modes[\n",
       "      'magic_text/x-csrc'] = {'reg':[/^%%microblaze/]};\n",
       "  Jupyter.notebook.events.one('kernel_ready.Kernel', function(){\n",
       "      Jupyter.notebook.get_cells().map(function(cell){\n",
       "          if (cell.cell_type == 'code'){ cell.auto_highlight(); } }) ;\n",
       "  });\n",
       "});\n",
       "} catch (e) {};\n"
      ]
     },
     "metadata": {},
     "output_type": "display_data"
    },
    {
     "data": {
      "application/javascript": [
       "\n",
       "try {\n",
       "require(['notebook/js/codecell'], function(codecell) {\n",
       "  codecell.CodeCell.options_default.highlight_modes[\n",
       "      'magic_text/x-csrc'] = {'reg':[/^%%pybind11/]};\n",
       "  Jupyter.notebook.events.one('kernel_ready.Kernel', function(){\n",
       "      Jupyter.notebook.get_cells().map(function(cell){\n",
       "          if (cell.cell_type == 'code'){ cell.auto_highlight(); } }) ;\n",
       "  });\n",
       "});\n",
       "} catch (e) {};\n"
      ]
     },
     "metadata": {},
     "output_type": "display_data"
    }
   ],
   "source": [
    "# Load the overlay (make sure the bitstream is compiled from your HLS kernel)\n",
    "ol = Overlay(\"sistema.bit\")\n",
    "\n",
    "# Get the kernel instance (the instance name depends on your design, here assumed to be cmpx_conv_0)\n",
    "kr = ol.cmpx_conv_0"
   ]
  },
  {
   "cell_type": "code",
   "execution_count": 7,
   "id": "78aacba2-cfdd-45ac-aee1-9f259684bce9",
   "metadata": {},
   "outputs": [
    {
     "data": {
      "text/plain": [
       "RegisterMap {\n",
       "  CTRL = Register(AP_START=0, AP_DONE=0, AP_IDLE=1, AP_READY=0, RESERVED_1=0, AUTO_RESTART=0, RESERVED_2=0, INTERRUPT=0, RESERVED_3=0),\n",
       "  GIER = Register(Enable=0, RESERVED=0),\n",
       "  IP_IER = Register(CHAN0_INT_EN=0, CHAN1_INT_EN=0, RESERVED_0=0),\n",
       "  IP_ISR = Register(CHAN0_INT_ST=0, CHAN1_INT_ST=0, RESERVED_0=0),\n",
       "  A_1 = Register(A=write-only),\n",
       "  A_2 = Register(A=write-only),\n",
       "  B_1 = Register(B=write-only),\n",
       "  B_2 = Register(B=write-only),\n",
       "  C_1 = Register(C=write-only),\n",
       "  C_2 = Register(C=write-only)\n",
       "}"
      ]
     },
     "execution_count": 7,
     "metadata": {},
     "output_type": "execute_result"
    }
   ],
   "source": [
    "kr.register_map"
   ]
  },
  {
   "cell_type": "code",
   "execution_count": 8,
   "id": "5100ad80-7b90-44cf-950c-d60b13c02878",
   "metadata": {},
   "outputs": [],
   "source": [
    "# Define the array size\n",
    "N = 8192\n",
    "\n",
    "# Allocate contiguous memory for the complex arrays\n",
    "# np.complex64 uses 32-bit float for both real and imaginary parts.\n",
    "A = allocate(shape=(N,), dtype=np.complex64)\n",
    "B = allocate(shape=(N,), dtype=np.complex64)\n",
    "C = allocate(shape=(N,), dtype=np.complex64)\n",
    "\n",
    "# Initialize A and B with random complex numbers\n",
    "A[:] = np.random.rand(N).astype(np.float32) + 1j * np.random.rand(N).astype(np.float32)\n",
    "B[:] = np.random.rand(N).astype(np.float32) + 1j * np.random.rand(N).astype(np.float32)\n"
   ]
  },
  {
   "cell_type": "code",
   "execution_count": 9,
   "id": "bc6e5218-80da-4ad2-bc6e-618f5a87a99e",
   "metadata": {},
   "outputs": [],
   "source": [
    "# Write the physical addresses of the arrays to the registers using the generated register map\n",
    "kr.write(kr.register_map.A_1.address, A.physical_address)\n",
    "kr.write(kr.register_map.B_1.address, B.physical_address)\n",
    "kr.write(kr.register_map.C_1.address, C.physical_address)"
   ]
  },
  {
   "cell_type": "code",
   "execution_count": 10,
   "id": "2c00b3be-5d0a-4c12-903e-23d55abe5d32",
   "metadata": {},
   "outputs": [],
   "source": [
    "# Start the kernel by setting the AP_START bit in the control register\n",
    "kr.register_map.CTRL.AP_START = 1\n",
    "\n",
    "# Optionally wait for a short while (or poll the status) for the kernel to complete\n",
    "time.sleep(3)"
   ]
  },
  {
   "cell_type": "code",
   "execution_count": 11,
   "id": "ceda3d6f-48e7-40c8-9718-7545d7395911",
   "metadata": {},
   "outputs": [
    {
     "name": "stdout",
     "output_type": "stream",
     "text": [
      "Hardware result (first 10 elements):\n",
      "[-35.097935 +4088.7727j -27.203289 +4099.961j   -7.48085  +4084.0557j\n",
      " -17.369724 +4089.3137j -11.051613 +4081.9019j -36.34986  +4092.7888j\n",
      " -16.589727 +4073.1777j  -1.4390953+4076.2239j -10.643052 +4098.7056j\n",
      "  -7.0256085+4087.7441j]\n"
     ]
    }
   ],
   "source": [
    "# Print the first 10 output values from the hardware convolution\n",
    "print(\"Hardware result (first 10 elements):\")\n",
    "print(C[:10])"
   ]
  },
  {
   "cell_type": "code",
   "execution_count": 12,
   "id": "89be7be6-7038-4b2d-a7f3-d66e87e5386e",
   "metadata": {},
   "outputs": [
    {
     "name": "stdout",
     "output_type": "stream",
     "text": [
      "Software reference result (first 10 elements):\n",
      "[-35.09794  +4088.7773j -27.203196 +4099.9644j  -7.4808664+4084.0562j\n",
      " -17.36969  +4089.3123j -11.051599 +4081.9077j -36.349987 +4092.7927j\n",
      " -16.589695 +4073.183j   -1.4391016+4076.2258j -10.643078 +4098.703j\n",
      "  -7.025629 +4087.7415j]\n"
     ]
    }
   ],
   "source": [
    "# Compute the reference circular convolution in Python using FFT:\n",
    "# Circular convolution can be computed via IFFT( FFT(A) * FFT(B) )\n",
    "C_ref = np.fft.ifft(np.fft.fft(A) * np.fft.fft(B))\n",
    "C_ref = C_ref.astype(np.complex64)  # Cast to complex64 for fair comparison\n",
    "\n",
    "print(\"Software reference result (first 10 elements):\")\n",
    "print(C_ref[:10])"
   ]
  },
  {
   "cell_type": "code",
   "execution_count": 13,
   "id": "6f1fe7e8-3c84-4920-8d37-268dbdc621b1",
   "metadata": {},
   "outputs": [],
   "source": [
    "# When finished, free the allocated buffers (if desired)\n",
    "A.freebuffer()\n",
    "B.freebuffer()\n",
    "C.freebuffer()"
   ]
  },
  {
   "cell_type": "code",
   "execution_count": null,
   "id": "5bd61828-cc0c-476a-afac-a483d99e1d65",
   "metadata": {},
   "outputs": [],
   "source": []
  }
 ],
 "metadata": {
  "kernelspec": {
   "display_name": "Python 3 (ipykernel)",
   "language": "python",
   "name": "python3"
  },
  "language_info": {
   "codemirror_mode": {
    "name": "ipython",
    "version": 3
   },
   "file_extension": ".py",
   "mimetype": "text/x-python",
   "name": "python",
   "nbconvert_exporter": "python",
   "pygments_lexer": "ipython3",
   "version": "3.10.12"
  }
 },
 "nbformat": 4,
 "nbformat_minor": 5
}
