{
 "cells": [
  {
   "cell_type": "markdown",
   "id": "34cc4862",
   "metadata": {},
   "source": [
    "# Diff Losses Nsteps Test\n",
    "Recrea el testbench `diff_losses_tb.cpp` en Python y compara la salida por software y por hardware."
   ]
  },
  {
   "cell_type": "code",
   "execution_count": 1,
   "id": "22e966a4",
   "metadata": {},
   "outputs": [],
   "source": [
    "import numpy as np\n",
    "import matplotlib.pyplot as plt\n",
    "from pathlib import Path\n",
    "import time\n",
    "from pynq import Overlay, allocate"
   ]
  },
  {
   "cell_type": "code",
   "execution_count": 2,
   "id": "999c9bdc",
   "metadata": {},
   "outputs": [
    {
     "ename": "FileNotFoundError",
     "evalue": "diff_losses_nsteps_test/phi_in.dat not found.",
     "output_type": "error",
     "traceback": [
      "\u001b[0;31m---------------------------------------------------------------------------\u001b[0m",
      "\u001b[0;31mFileNotFoundError\u001b[0m                         Traceback (most recent call last)",
      "Input \u001b[0;32mIn [2]\u001b[0m, in \u001b[0;36m<cell line: 8>\u001b[0;34m()\u001b[0m\n\u001b[1;32m      6\u001b[0m     m \u001b[38;5;241m=\u001b[39m (data[:,\u001b[38;5;241m0\u001b[39m] \u001b[38;5;241m+\u001b[39m \u001b[38;5;241m1\u001b[39mj\u001b[38;5;241m*\u001b[39mdata[:,\u001b[38;5;241m1\u001b[39m])\u001b[38;5;241m.\u001b[39mastype(np\u001b[38;5;241m.\u001b[39mcomplex64)\n\u001b[1;32m      7\u001b[0m     \u001b[38;5;28;01mreturn\u001b[39;00m m\u001b[38;5;241m.\u001b[39mreshape(N, N, order\u001b[38;5;241m=\u001b[39m\u001b[38;5;124m'\u001b[39m\u001b[38;5;124mF\u001b[39m\u001b[38;5;124m'\u001b[39m)\n\u001b[0;32m----> 8\u001b[0m phi_in \u001b[38;5;241m=\u001b[39m \u001b[43mread_matrix\u001b[49m\u001b[43m(\u001b[49m\u001b[43mDATA_DIR\u001b[49m\u001b[43m \u001b[49m\u001b[38;5;241;43m/\u001b[39;49m\u001b[43m \u001b[49m\u001b[38;5;124;43m'\u001b[39;49m\u001b[38;5;124;43mphi_in.dat\u001b[39;49m\u001b[38;5;124;43m'\u001b[39;49m\u001b[43m)\u001b[49m\n\u001b[1;32m      9\u001b[0m golden \u001b[38;5;241m=\u001b[39m read_matrix(DATA_DIR \u001b[38;5;241m/\u001b[39m \u001b[38;5;124m'\u001b[39m\u001b[38;5;124mgolden.dat\u001b[39m\u001b[38;5;124m'\u001b[39m)\n",
      "Input \u001b[0;32mIn [2]\u001b[0m, in \u001b[0;36mread_matrix\u001b[0;34m(fn)\u001b[0m\n\u001b[1;32m      4\u001b[0m \u001b[38;5;28;01mdef\u001b[39;00m\u001b[38;5;250m \u001b[39m\u001b[38;5;21mread_matrix\u001b[39m(fn):\n\u001b[0;32m----> 5\u001b[0m     data \u001b[38;5;241m=\u001b[39m \u001b[43mnp\u001b[49m\u001b[38;5;241;43m.\u001b[39;49m\u001b[43mloadtxt\u001b[49m\u001b[43m(\u001b[49m\u001b[43mfn\u001b[49m\u001b[43m,\u001b[49m\u001b[43m \u001b[49m\u001b[43mdtype\u001b[49m\u001b[38;5;241;43m=\u001b[39;49m\u001b[43mnp\u001b[49m\u001b[38;5;241;43m.\u001b[39;49m\u001b[43mfloat32\u001b[49m\u001b[43m)\u001b[49m\n\u001b[1;32m      6\u001b[0m     m \u001b[38;5;241m=\u001b[39m (data[:,\u001b[38;5;241m0\u001b[39m] \u001b[38;5;241m+\u001b[39m \u001b[38;5;241m1\u001b[39mj\u001b[38;5;241m*\u001b[39mdata[:,\u001b[38;5;241m1\u001b[39m])\u001b[38;5;241m.\u001b[39mastype(np\u001b[38;5;241m.\u001b[39mcomplex64)\n\u001b[1;32m      7\u001b[0m     \u001b[38;5;28;01mreturn\u001b[39;00m m\u001b[38;5;241m.\u001b[39mreshape(N, N, order\u001b[38;5;241m=\u001b[39m\u001b[38;5;124m'\u001b[39m\u001b[38;5;124mF\u001b[39m\u001b[38;5;124m'\u001b[39m)\n",
      "File \u001b[0;32m/usr/local/share/pynq-venv/lib/python3.10/site-packages/numpy/lib/npyio.py:1373\u001b[0m, in \u001b[0;36mloadtxt\u001b[0;34m(fname, dtype, comments, delimiter, converters, skiprows, usecols, unpack, ndmin, encoding, max_rows, quotechar, like)\u001b[0m\n\u001b[1;32m   1370\u001b[0m \u001b[38;5;28;01mif\u001b[39;00m \u001b[38;5;28misinstance\u001b[39m(delimiter, \u001b[38;5;28mbytes\u001b[39m):\n\u001b[1;32m   1371\u001b[0m     delimiter \u001b[38;5;241m=\u001b[39m delimiter\u001b[38;5;241m.\u001b[39mdecode(\u001b[38;5;124m'\u001b[39m\u001b[38;5;124mlatin1\u001b[39m\u001b[38;5;124m'\u001b[39m)\n\u001b[0;32m-> 1373\u001b[0m arr \u001b[38;5;241m=\u001b[39m \u001b[43m_read\u001b[49m\u001b[43m(\u001b[49m\u001b[43mfname\u001b[49m\u001b[43m,\u001b[49m\u001b[43m \u001b[49m\u001b[43mdtype\u001b[49m\u001b[38;5;241;43m=\u001b[39;49m\u001b[43mdtype\u001b[49m\u001b[43m,\u001b[49m\u001b[43m \u001b[49m\u001b[43mcomment\u001b[49m\u001b[38;5;241;43m=\u001b[39;49m\u001b[43mcomment\u001b[49m\u001b[43m,\u001b[49m\u001b[43m \u001b[49m\u001b[43mdelimiter\u001b[49m\u001b[38;5;241;43m=\u001b[39;49m\u001b[43mdelimiter\u001b[49m\u001b[43m,\u001b[49m\n\u001b[1;32m   1374\u001b[0m \u001b[43m            \u001b[49m\u001b[43mconverters\u001b[49m\u001b[38;5;241;43m=\u001b[39;49m\u001b[43mconverters\u001b[49m\u001b[43m,\u001b[49m\u001b[43m \u001b[49m\u001b[43mskiplines\u001b[49m\u001b[38;5;241;43m=\u001b[39;49m\u001b[43mskiprows\u001b[49m\u001b[43m,\u001b[49m\u001b[43m \u001b[49m\u001b[43musecols\u001b[49m\u001b[38;5;241;43m=\u001b[39;49m\u001b[43musecols\u001b[49m\u001b[43m,\u001b[49m\n\u001b[1;32m   1375\u001b[0m \u001b[43m            \u001b[49m\u001b[43munpack\u001b[49m\u001b[38;5;241;43m=\u001b[39;49m\u001b[43munpack\u001b[49m\u001b[43m,\u001b[49m\u001b[43m \u001b[49m\u001b[43mndmin\u001b[49m\u001b[38;5;241;43m=\u001b[39;49m\u001b[43mndmin\u001b[49m\u001b[43m,\u001b[49m\u001b[43m \u001b[49m\u001b[43mencoding\u001b[49m\u001b[38;5;241;43m=\u001b[39;49m\u001b[43mencoding\u001b[49m\u001b[43m,\u001b[49m\n\u001b[1;32m   1376\u001b[0m \u001b[43m            \u001b[49m\u001b[43mmax_rows\u001b[49m\u001b[38;5;241;43m=\u001b[39;49m\u001b[43mmax_rows\u001b[49m\u001b[43m,\u001b[49m\u001b[43m \u001b[49m\u001b[43mquote\u001b[49m\u001b[38;5;241;43m=\u001b[39;49m\u001b[43mquotechar\u001b[49m\u001b[43m)\u001b[49m\n\u001b[1;32m   1378\u001b[0m \u001b[38;5;28;01mreturn\u001b[39;00m arr\n",
      "File \u001b[0;32m/usr/local/share/pynq-venv/lib/python3.10/site-packages/numpy/lib/npyio.py:992\u001b[0m, in \u001b[0;36m_read\u001b[0;34m(fname, delimiter, comment, quote, imaginary_unit, usecols, skiplines, max_rows, converters, ndmin, unpack, dtype, encoding)\u001b[0m\n\u001b[1;32m    990\u001b[0m     fname \u001b[38;5;241m=\u001b[39m os\u001b[38;5;241m.\u001b[39mfspath(fname)\n\u001b[1;32m    991\u001b[0m \u001b[38;5;28;01mif\u001b[39;00m \u001b[38;5;28misinstance\u001b[39m(fname, \u001b[38;5;28mstr\u001b[39m):\n\u001b[0;32m--> 992\u001b[0m     fh \u001b[38;5;241m=\u001b[39m \u001b[43mnp\u001b[49m\u001b[38;5;241;43m.\u001b[39;49m\u001b[43mlib\u001b[49m\u001b[38;5;241;43m.\u001b[39;49m\u001b[43m_datasource\u001b[49m\u001b[38;5;241;43m.\u001b[39;49m\u001b[43mopen\u001b[49m\u001b[43m(\u001b[49m\u001b[43mfname\u001b[49m\u001b[43m,\u001b[49m\u001b[43m \u001b[49m\u001b[38;5;124;43m'\u001b[39;49m\u001b[38;5;124;43mrt\u001b[39;49m\u001b[38;5;124;43m'\u001b[39;49m\u001b[43m,\u001b[49m\u001b[43m \u001b[49m\u001b[43mencoding\u001b[49m\u001b[38;5;241;43m=\u001b[39;49m\u001b[43mencoding\u001b[49m\u001b[43m)\u001b[49m\n\u001b[1;32m    993\u001b[0m     \u001b[38;5;28;01mif\u001b[39;00m encoding \u001b[38;5;129;01mis\u001b[39;00m \u001b[38;5;28;01mNone\u001b[39;00m:\n\u001b[1;32m    994\u001b[0m         encoding \u001b[38;5;241m=\u001b[39m \u001b[38;5;28mgetattr\u001b[39m(fh, \u001b[38;5;124m'\u001b[39m\u001b[38;5;124mencoding\u001b[39m\u001b[38;5;124m'\u001b[39m, \u001b[38;5;124m'\u001b[39m\u001b[38;5;124mlatin1\u001b[39m\u001b[38;5;124m'\u001b[39m)\n",
      "File \u001b[0;32m/usr/local/share/pynq-venv/lib/python3.10/site-packages/numpy/lib/_datasource.py:193\u001b[0m, in \u001b[0;36mopen\u001b[0;34m(path, mode, destpath, encoding, newline)\u001b[0m\n\u001b[1;32m    156\u001b[0m \u001b[38;5;250m\u001b[39m\u001b[38;5;124;03m\"\"\"\u001b[39;00m\n\u001b[1;32m    157\u001b[0m \u001b[38;5;124;03mOpen `path` with `mode` and return the file object.\u001b[39;00m\n\u001b[1;32m    158\u001b[0m \n\u001b[0;32m   (...)\u001b[0m\n\u001b[1;32m    189\u001b[0m \n\u001b[1;32m    190\u001b[0m \u001b[38;5;124;03m\"\"\"\u001b[39;00m\n\u001b[1;32m    192\u001b[0m ds \u001b[38;5;241m=\u001b[39m DataSource(destpath)\n\u001b[0;32m--> 193\u001b[0m \u001b[38;5;28;01mreturn\u001b[39;00m \u001b[43mds\u001b[49m\u001b[38;5;241;43m.\u001b[39;49m\u001b[43mopen\u001b[49m\u001b[43m(\u001b[49m\u001b[43mpath\u001b[49m\u001b[43m,\u001b[49m\u001b[43m \u001b[49m\u001b[43mmode\u001b[49m\u001b[43m,\u001b[49m\u001b[43m \u001b[49m\u001b[43mencoding\u001b[49m\u001b[38;5;241;43m=\u001b[39;49m\u001b[43mencoding\u001b[49m\u001b[43m,\u001b[49m\u001b[43m \u001b[49m\u001b[43mnewline\u001b[49m\u001b[38;5;241;43m=\u001b[39;49m\u001b[43mnewline\u001b[49m\u001b[43m)\u001b[49m\n",
      "File \u001b[0;32m/usr/local/share/pynq-venv/lib/python3.10/site-packages/numpy/lib/_datasource.py:533\u001b[0m, in \u001b[0;36mDataSource.open\u001b[0;34m(self, path, mode, encoding, newline)\u001b[0m\n\u001b[1;32m    530\u001b[0m     \u001b[38;5;28;01mreturn\u001b[39;00m _file_openers[ext](found, mode\u001b[38;5;241m=\u001b[39mmode,\n\u001b[1;32m    531\u001b[0m                               encoding\u001b[38;5;241m=\u001b[39mencoding, newline\u001b[38;5;241m=\u001b[39mnewline)\n\u001b[1;32m    532\u001b[0m \u001b[38;5;28;01melse\u001b[39;00m:\n\u001b[0;32m--> 533\u001b[0m     \u001b[38;5;28;01mraise\u001b[39;00m \u001b[38;5;167;01mFileNotFoundError\u001b[39;00m(\u001b[38;5;124mf\u001b[39m\u001b[38;5;124m\"\u001b[39m\u001b[38;5;132;01m{\u001b[39;00mpath\u001b[38;5;132;01m}\u001b[39;00m\u001b[38;5;124m not found.\u001b[39m\u001b[38;5;124m\"\u001b[39m)\n",
      "\u001b[0;31mFileNotFoundError\u001b[0m: diff_losses_nsteps_test/phi_in.dat not found."
     ]
    }
   ],
   "source": [
    "N = 64\n",
    "steps = 361\n",
    "DATA_DIR = Path('diff_losses_nsteps_test')\n",
    "def read_matrix(fn):\n",
    "    data = np.loadtxt(fn, dtype=np.float32)\n",
    "    m = (data[:,0] + 1j*data[:,1]).astype(np.complex64)\n",
    "    return m.reshape(N, N, order='F')\n",
    "phi_in = read_matrix(DATA_DIR / 'phi_in.dat')\n",
    "golden = read_matrix(DATA_DIR / 'golden.dat')"
   ]
  },
  {
   "cell_type": "code",
   "execution_count": null,
   "id": "5e443e3b",
   "metadata": {},
   "outputs": [],
   "source": [
    "Lx = 45e-6\n",
    "Ly = 45e-6\n",
    "dx = Lx / N\n",
    "dy = Ly / N\n",
    "dz = 1e-4\n",
    "k = 7853981.6339\n",
    "eps2 = 1e-24\n",
    "\n",
    "def compute_b_vector(dp, dp1, dp2, off, x0):\n",
    "    b = np.empty(N, dtype=np.complex64)\n",
    "    b[0] = x0[0]*dp1 + x0[1]*off\n",
    "    for i in range(1, N-1):\n",
    "        b[i] = x0[i-1]*off + x0[i]*dp + x0[i+1]*off\n",
    "    b[N-1] = x0[N-2]*off + x0[N-1]*dp2\n",
    "    return b\n",
    "\n",
    "def thomas_solver(dp, dp1, dp2, off, b):\n",
    "    c_prime = np.empty(N, dtype=np.complex64)\n",
    "    d_prime = np.empty(N, dtype=np.complex64)\n",
    "    inv1 = 1.0 / dp1\n",
    "    c_prime[0] = inv1 * off\n",
    "    d_prime[0] = b[0] * inv1\n",
    "    for i in range(1, N-1):\n",
    "        denom = dp - c_prime[i-1]*off\n",
    "        invd = 1.0 / denom\n",
    "        c_prime[i] = invd * off\n",
    "        d_prime[i] = (b[i] - d_prime[i-1]*off) * invd\n",
    "    denom = dp2 - c_prime[N-2]*off\n",
    "    invd = 1.0 / denom\n",
    "    d_prime[N-1] = (b[N-1] - d_prime[N-2]*off) * invd\n",
    "    x = np.empty(N, dtype=np.complex64)\n",
    "    x[N-1] = d_prime[N-1]\n",
    "    for i in range(N-2, -1, -1):\n",
    "        x[i] = d_prime[i] - c_prime[i]*x[i+1]\n",
    "    return x\n",
    "\n",
    "def adi_x(arr):\n",
    "    out = np.empty_like(arr)\n",
    "    ung = 1j * (dz / (4*k*dx*dx))\n",
    "    neg2u = -2.0 * ung\n",
    "    pos2u =  2.0 * ung\n",
    "    for j in range(N):\n",
    "        x0 = arr[:, j].copy()\n",
    "        ratio0 = 1+0j if np.abs(x0[1]) < eps2 else x0[0]/x0[1]\n",
    "        ratioN = 1+0j if np.abs(x0[N-2]) < eps2 else x0[N-1]/x0[N-2]\n",
    "        dp_B  = neg2u + 1\n",
    "        dp1_B = dp_B + ung*ratio0\n",
    "        dp2_B = dp_B + ung*ratioN\n",
    "        b = compute_b_vector(dp_B, dp1_B, dp2_B, ung, x0)\n",
    "        dp_A  = pos2u + 1\n",
    "        dp1_A = dp_A - ung*ratio0\n",
    "        dp2_A = dp_A - ung*ratioN\n",
    "        x = thomas_solver(dp_A, dp1_A, dp2_A, -ung, b)\n",
    "        out[:, j] = x\n",
    "    return out\n",
    "\n",
    "def adi_y(arr):\n",
    "    out = np.empty_like(arr)\n",
    "    ung = 1j * (dz / (4*k*dy*dy))\n",
    "    neg2u = -2.0 * ung\n",
    "    pos2u =  2.0 * ung\n",
    "    for i in range(N):\n",
    "        x0 = arr[i, :].copy()\n",
    "        ratio0 = 1+0j if np.abs(x0[1]) < eps2 else x0[0]/x0[1]\n",
    "        ratioN = 1+0j if np.abs(x0[N-2]) < eps2 else x0[N-1]/x0[N-2]\n",
    "        dp_B  = neg2u + 1\n",
    "        dp1_B = dp_B + ung*ratio0\n",
    "        dp2_B = dp_B + ung*ratioN\n",
    "        b = compute_b_vector(dp_B, dp1_B, dp2_B, ung, x0)\n",
    "        dp_A  = pos2u + 1\n",
    "        dp1_A = dp_A - ung*ratio0\n",
    "        dp2_A = dp_A - ung*ratioN\n",
    "        x = thomas_solver(dp_A, dp1_A, dp2_A, -ung, b)\n",
    "        out[i, :] = x\n",
    "    return out\n",
    "\n",
    "def diff_losses_sw(phi_in, steps):\n",
    "    phi = phi_in.copy()\n",
    "    tmp = np.empty_like(phi)\n",
    "    for _ in range(steps):\n",
    "        tmp = adi_x(phi)\n",
    "        phi = adi_y(tmp)\n",
    "    return phi"
   ]
  },
  {
   "cell_type": "code",
   "execution_count": null,
   "id": "389d01c4",
   "metadata": {},
   "outputs": [],
   "source": [
    "start = time.perf_counter()\n",
    "phi_sw = diff_losses_sw(phi_in, steps)\n",
    "sw_time = time.perf_counter() - start\n",
    "sw_err = np.sqrt(np.mean(np.abs(phi_sw - golden)**2))\n",
    "plt.figure(figsize=(12,5))\n",
    "plt.subplot(1,2,1); plt.imshow(np.abs(phi_in)**2, cmap='inferno'); plt.title('Beam inicial (SW)')\n",
    "plt.subplot(1,2,2); plt.imshow(np.abs(phi_sw)**2, cmap='inferno'); plt.title('Beam final (SW)')\n",
    "plt.show()\n",
    "print(f'Software time: {sw_time:.4f} s')\n",
    "print(f'RMS vs golden: {sw_err:.6e}')"
   ]
  },
  {
   "cell_type": "code",
   "execution_count": null,
   "id": "347ae4a0",
   "metadata": {},
   "outputs": [],
   "source": [
    "# --- Ejecución en hardware ---\n",
    "ol = Overlay('full_propagation.bit')  # reemplace con ruta al bitstream\n",
    "ip = ol.diff_losses_0\n",
    "TOTAL = N * N\n",
    "in_buffer = allocate(shape=(TOTAL,), dtype=np.complex64)\n",
    "out_buffer = allocate(shape=(TOTAL,), dtype=np.complex64)\n",
    "np.copyto(in_buffer, phi_in.reshape(TOTAL, order='F'))"
   ]
  },
  {
   "cell_type": "code",
   "execution_count": null,
   "id": "fd3986e4",
   "metadata": {},
   "outputs": [],
   "source": [
    "ip.write(0x10, in_buffer.physical_address)\n",
    "ip.write(0x1c, out_buffer.physical_address)\n",
    "ip.write(0x28, steps)\n",
    "t0 = time.perf_counter()\n",
    "ip.write(0x00, 1)\n",
    "while (ip.read(0x00) & 0x2) == 0:\n",
    "    pass\n",
    "hw_time = time.perf_counter() - t0\n",
    "phi_hw = np.array(out_buffer).reshape(N, N, order='F')\n",
    "plt.figure(figsize=(5,5))\n",
    "plt.imshow(np.abs(phi_hw)**2, cmap='inferno'); plt.title('Beam final (HW)')\n",
    "plt.show()\n",
    "rms_hw = np.sqrt(np.mean(np.abs(phi_hw - phi_sw)**2))\n",
    "print(f'Hardware time: {hw_time:.4f} s')\n",
    "print(f'RMS HW vs SW: {rms_hw:.6e}')"
   ]
  }
 ],
 "metadata": {
  "kernelspec": {
   "display_name": "Python 3 (ipykernel)",
   "language": "python",
   "name": "python3"
  },
  "language_info": {
   "codemirror_mode": {
    "name": "ipython",
    "version": 3
   },
   "file_extension": ".py",
   "mimetype": "text/x-python",
   "name": "python",
   "nbconvert_exporter": "python",
   "pygments_lexer": "ipython3",
   "version": "3.10.12"
  }
 },
 "nbformat": 4,
 "nbformat_minor": 5
}
