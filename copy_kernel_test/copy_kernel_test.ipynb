{
 "cells": [
  {
   "cell_type": "markdown",
   "id": "a5820ee4",
   "metadata": {},
   "source": [
    "# Copy Kernel Test\n",
    "Este cuaderno prueba el kernel `copy_kernel` copiando una matriz de números complejos."
   ]
  },
  {
   "cell_type": "code",
   "execution_count": 1,
   "id": "8b10c2af",
   "metadata": {},
   "outputs": [],
   "source": [
    "import numpy as np\n",
    "import matplotlib.pyplot as plt\n",
    "from pynq import Overlay, allocate\n",
    "%matplotlib inline"
   ]
  },
  {
   "cell_type": "code",
   "execution_count": 8,
   "id": "5de35d19",
   "metadata": {},
   "outputs": [],
   "source": [
    "ol = Overlay('bufferMatrix.bit')  # Reemplace con el bitstream que contiene copy_kernel\n",
    "ip = ol.copy_kernel_0"
   ]
  },
  {
   "cell_type": "code",
   "execution_count": 9,
   "id": "f66c159f-1ef2-4a94-b102-480636319087",
   "metadata": {},
   "outputs": [
    {
     "name": "stdout",
     "output_type": "stream",
     "text": [
      "RegisterMap {\n",
      "  CTRL = Register(AP_START=0, AP_DONE=0, AP_IDLE=1, AP_READY=0, RESERVED_1=0, AUTO_RESTART=0, RESERVED_2=0, INTERRUPT=0, RESERVED_3=0),\n",
      "  GIER = Register(Enable=0, RESERVED=0),\n",
      "  IP_IER = Register(CHAN0_INT_EN=0, CHAN1_INT_EN=0, RESERVED_0=0),\n",
      "  IP_ISR = Register(CHAN0_INT_ST=0, CHAN1_INT_ST=0, RESERVED_0=0),\n",
      "  in_r_1 = Register(in_r=write-only),\n",
      "  in_r_2 = Register(in_r=write-only),\n",
      "  out_r_1 = Register(out_r=write-only),\n",
      "  out_r_2 = Register(out_r=write-only)\n",
      "}\n"
     ]
    }
   ],
   "source": [
    "print(ol.copy_kernel_0.register_map)  # o el nombre exacto del IP\n"
   ]
  },
  {
   "cell_type": "code",
   "execution_count": 10,
   "id": "be648e4b",
   "metadata": {},
   "outputs": [],
   "source": [
    "N = 64\n",
    "TOTAL = N * N\n",
    "x = np.linspace(-3, 3, N, dtype=np.float32)\n",
    "X, Y = np.meshgrid(x, x)\n",
    "sigma = 0.8\n",
    "gaussian = np.exp(-(X**2 + Y**2) / (2 * sigma**2)).astype(np.float32)\n",
    "in_matrix = gaussian.astype(np.complex64)\n",
    "in_buffer = allocate(shape=(TOTAL,), dtype=np.complex64)\n",
    "out_buffer = allocate(shape=(TOTAL,), dtype=np.complex64)\n",
    "np.copyto(in_buffer, in_matrix.reshape(TOTAL))"
   ]
  },
  {
   "cell_type": "code",
   "execution_count": 11,
   "id": "2fd007d6",
   "metadata": {},
   "outputs": [],
   "source": [
    "ip.write(0x10, in_buffer.physical_address)\n",
    "ip.write(0x1c, out_buffer.physical_address)\n",
    "ip.write(0x00, 1)  # ap_start\n",
    "while (ip.read(0x00) & 0x2) == 0:\n",
    "    pass\n",
    "out_matrix = np.array(out_buffer).reshape(N, N)"
   ]
  },
  {
   "cell_type": "code",
   "execution_count": 12,
   "id": "253a99fb",
   "metadata": {},
   "outputs": [
    {
     "data": {
      "image/png": "[encoded data removed]",
      "text/plain": [
       "<Figure size 1080x288 with 3 Axes>"
      ]
     },
     "metadata": {
      "needs_background": "light"
     },
     "output_type": "display_data"
    },
    {
     "name": "stdout",
     "output_type": "stream",
     "text": [
      "Error máximo: 0.0\n"
     ]
    }
   ],
   "source": [
    "fig, axes = plt.subplots(1, 3, figsize=(15, 4))\n",
    "axes[0].imshow(np.abs(in_matrix))\n",
    "axes[0].set_title('Entrada |in|')\n",
    "axes[1].imshow(np.abs(out_matrix))\n",
    "axes[1].set_title('Salida |out|')\n",
    "diff = out_matrix - in_matrix\n",
    "axes[2].imshow(np.abs(diff))\n",
    "axes[2].set_title('|in - out|')\n",
    "for ax in axes: ax.axis('off')\n",
    "plt.show()\n",
    "print('Error máximo:', np.max(np.abs(diff)))"
   ]
  },
  {
   "cell_type": "code",
   "execution_count": null,
   "id": "3d11cd52-bd61-4ace-9dbd-633ecae72fb5",
   "metadata": {},
   "outputs": [],
   "source": []
  }
 ],
 "metadata": {
  "kernelspec": {
   "display_name": "Python 3 (ipykernel)",
   "language": "python",
   "name": "python3"
  },
  "language_info": {
   "codemirror_mode": {
    "name": "ipython",
    "version": 3
   },
   "file_extension": ".py",
   "mimetype": "text/x-python",
   "name": "python",
   "nbconvert_exporter": "python",
   "pygments_lexer": "ipython3",
   "version": "3.10.12"
  }
 },
 "nbformat": 4,
 "nbformat_minor": 5
}
