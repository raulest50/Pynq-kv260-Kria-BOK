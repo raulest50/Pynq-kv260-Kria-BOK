{
 "cells": [
  {
   "cell_type": "markdown",
   "id": "a5820ee4",
   "metadata": {},
   "source": [
    "# Copy Kernel Test\n",
    "Este cuaderno prueba el kernel `copy_kernel` copiando una matriz de números complejos."
   ]
  },
  {
   "cell_type": "code",
   "execution_count": null,
   "id": "8b10c2af",
   "metadata": {},
   "outputs": [],
   "source": [
    "import numpy as np\n",
    "import matplotlib.pyplot as plt\n",
    "from pynq import Overlay, allocate\n",
    "%matplotlib inline"
   ]
  },
  {
   "cell_type": "code",
   "execution_count": null,
   "id": "5de35d19",
   "metadata": {},
   "outputs": [],
   "source": [
    "ol = Overlay('sistema.bit')  # Reemplace con el bitstream que contiene copy_kernel\n",
    "ip = ol.copy_kernel_0"
   ]
  },
  {
   "cell_type": "code",
   "execution_count": null,
   "id": "be648e4b",
   "metadata": {},
   "outputs": [],
   "source": [
    "N = 64\n",
    "TOTAL = N * N\n",
    "x = np.linspace(-3, 3, N, dtype=np.float32)\n",
    "X, Y = np.meshgrid(x, x)\n",
    "sigma = 0.8\n",
    "gaussian = np.exp(-(X**2 + Y**2) / (2 * sigma**2)).astype(np.float32)\n",
    "in_matrix = gaussian.astype(np.complex64)\n",
    "in_buffer = allocate(shape=(TOTAL,), dtype=np.complex64)\n",
    "out_buffer = allocate(shape=(TOTAL,), dtype=np.complex64)\n",
    "np.copyto(in_buffer, in_matrix.reshape(TOTAL))"
   ]
  },
  {
   "cell_type": "code",
   "execution_count": null,
   "id": "2fd007d6",
   "metadata": {},
   "outputs": [],
   "source": [
    "ip.write(0x10, in_buffer.physical_address)\n",
    "ip.write(0x18, out_buffer.physical_address)\n",
    "ip.write(0x00, 1)  # ap_start\n",
    "while (ip.read(0x00) & 0x2) == 0:\n",
    "    pass\n",
    "out_matrix = np.array(out_buffer).reshape(N, N)"
   ]
  },
  {
   "cell_type": "code",
   "execution_count": null,
   "id": "253a99fb",
   "metadata": {},
   "outputs": [],
   "source": [
    "fig, axes = plt.subplots(1, 3, figsize=(15, 4))\n",
    "axes[0].imshow(np.abs(in_matrix))\n",
    "axes[0].set_title('Entrada |in|')\n",
    "axes[1].imshow(np.abs(out_matrix))\n",
    "axes[1].set_title('Salida |out|')\n",
    "diff = out_matrix - in_matrix\n",
    "axes[2].imshow(np.abs(diff))\n",
    "axes[2].set_title('|in - out|')\n",
    "for ax in axes: ax.axis('off')\n",
    "plt.show()\n",
    "print('Error máximo:', np.max(np.abs(diff)))"
   ]
  }
 ],
 "metadata": {},
 "nbformat": 4,
 "nbformat_minor": 5
}
