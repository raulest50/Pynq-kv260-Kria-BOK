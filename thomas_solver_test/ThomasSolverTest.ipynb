{
 "cells": [
  {
   "cell_type": "markdown",
   "id": "a2de9176",
   "metadata": {},
   "source": [
    "# Thomas Solver Overlay Test\n",
    "\n",
    "This notebook compares the FPGA implementation of a tridiagonal matrix solver against a NumPy implementation. It measures the execution time of each approach and checks that both produce the same result."
   ]
  },
  {
   "cell_type": "code",
   "execution_count": 33,
   "id": "34f591a4",
   "metadata": {},
   "outputs": [],
   "source": [
    "from pynq import Overlay, allocate\n",
    "import numpy as np\n",
    "import time\n",
    "\n",
    "np.set_printoptions(precision=4, suppress=True)\n"
   ]
  },
  {
   "cell_type": "code",
   "execution_count": 34,
   "id": "2ee31f3c",
   "metadata": {},
   "outputs": [],
   "source": [
    "# Load overlay and inspect available IP blocks\n",
    "overlay = Overlay('custom_tomas_solver_v1.bit')\n",
    "# Replace 'thomas_solver_0' with the actual IP name from the printed dictionary if different\n",
    "solver_ip = overlay.thomas_solver_0"
   ]
  },
  {
   "cell_type": "code",
   "execution_count": 35,
   "id": "fd0c3e1e",
   "metadata": {},
   "outputs": [
    {
     "name": "stdout",
     "output_type": "stream",
     "text": [
      "Input vector b [0.6907+0.697j  0.7775+0.8045j 0.4146+0.3793j 0.7462+0.681j\n",
      " 0.8194+0.1159j 0.3962+0.4246j 0.4628+0.4783j 0.8896+0.1898j\n",
      " 0.5112+0.8052j 0.8238+0.5776j 0.5049+0.1007j 0.8522+0.0221j\n",
      " 0.8214+0.3274j 0.9018+0.8867j 0.2052+0.322j  0.5452+0.6983j\n",
      " 0.7015+0.11j   0.8208+0.3336j 0.082 +0.6328j 0.3224+0.3763j\n",
      " 0.1736+0.4839j 0.7128+0.8203j 0.9912+0.7411j 0.6276+0.7991j\n",
      " 0.2117+0.0522j 0.4267+0.4251j 0.7297+0.8888j 0.681 +0.0216j\n",
      " 0.1692+0.8624j 0.401 +0.0815j 0.6651+0.9806j 0.9598+0.9482j\n",
      " 0.3716+0.4935j 0.6027+0.1938j 0.1805+0.0614j 0.4263+0.9759j\n",
      " 0.457 +0.0253j 0.521 +0.6958j 0.148 +0.8498j 0.675 +0.7923j\n",
      " 0.2311+0.408j  0.3715+0.319j  0.9363+0.3622j 0.5922+0.4592j\n",
      " 0.5565+0.2786j 0.2766+0.7272j 0.0716+0.7149j 0.1895+0.7202j\n",
      " 0.1285+0.3064j 0.6185+0.2962j 0.1767+0.9275j 0.7504+0.0615j\n",
      " 0.6549+0.5989j 0.1388+0.2255j 0.2911+0.0297j 0.1827+0.5766j\n",
      " 0.9335+0.0607j 0.7628+0.6257j 0.1509+0.1544j 0.8239+0.0395j\n",
      " 0.0967+0.4822j 0.4657+0.9578j 0.9557+0.1788j 0.1846+0.6515j]\n"
     ]
    }
   ],
   "source": [
    "N = 64\n",
    "# Constants describing the tridiagonal matrix\n",
    "dp = np.complex64(4+0j)\n",
    "dp1 = np.complex64(3+0j)\n",
    "dp2 = np.complex64(3+0j)\n",
    "off = np.complex64(1+0j)\n",
    "\n",
    "# Allocate buffers accessible to the FPGA\n",
    "a_b = allocate(shape=(N,), dtype=np.complex64)\n",
    "a_x = allocate(shape=(N,), dtype=np.complex64)\n",
    "\n",
    "# Random right-hand side vector\n",
    "b_np = (np.random.rand(N) + 1j*np.random.rand(N)).astype(np.complex64)\n",
    "a_b[:] = b_np\n",
    "a_x.fill(0)\n",
    "a_b.flush()\n",
    "a_x.flush()\n",
    "print('Input vector b', b_np)\n"
   ]
  },
  {
   "cell_type": "code",
   "execution_count": 36,
   "id": "18300b0b",
   "metadata": {},
   "outputs": [],
   "source": [
    "def thomas_solver_numpy(dp, dp1, dp2, off, b):\n",
    "    N = b.shape[0]\n",
    "    c_prime = np.empty(N, dtype=np.complex64)\n",
    "    d_prime = np.empty(N, dtype=np.complex64)\n",
    "    inv = 1.0/np.complex64(dp1)\n",
    "    c_prime[0] = off * inv\n",
    "    d_prime[0] = b[0] * inv\n",
    "    for i in range(1, N-1):\n",
    "        denom = dp - off * c_prime[i-1]\n",
    "        inv = 1.0/denom\n",
    "        c_prime[i] = off * inv\n",
    "        d_prime[i] = (b[i] - off * d_prime[i-1]) * inv\n",
    "    denom = dp2 - off * c_prime[N-2]\n",
    "    d_prime[N-1] = (b[N-1] - off * d_prime[N-2]) / denom\n",
    "    x = np.empty(N, dtype=np.complex64)\n",
    "    x[-1] = d_prime[-1]\n",
    "    for i in range(N-2, -1, -1):\n",
    "        x[i] = d_prime[i] - c_prime[i] * x[i+1]\n",
    "    return x"
   ]
  },
  {
   "cell_type": "code",
   "execution_count": 37,
   "id": "09878e2b",
   "metadata": {},
   "outputs": [
    {
     "name": "stdout",
     "output_type": "stream",
     "text": [
      "CPU time: 2.353 ms\n"
     ]
    }
   ],
   "source": [
    "# CPU reference implementation\n",
    "t0 = time.time()\n",
    "x_ref = thomas_solver_numpy(dp, dp1, dp2, off, b_np)\n",
    "cpu_time = time.time() - t0\n",
    "print(f'CPU time: {cpu_time*1e3:.3f} ms')\n"
   ]
  },
  {
   "cell_type": "code",
   "execution_count": 38,
   "id": "7d987222-ac20-4480-804a-f6a803c3c068",
   "metadata": {},
   "outputs": [
    {
     "name": "stdout",
     "output_type": "stream",
     "text": [
      "RegisterMap {\n",
      "  CTRL = Register(AP_START=0, AP_DONE=0, AP_IDLE=1, AP_READY=0, RESERVED_1=0, AUTO_RESTART=0, RESERVED_2=0, INTERRUPT=0, RESERVED_3=0),\n",
      "  GIER = Register(Enable=0, RESERVED=2),\n",
      "  IP_IER = Register(CHAN0_INT_EN=0, CHAN1_INT_EN=0, RESERVED_0=1),\n",
      "  IP_ISR = Register(CHAN0_INT_ST=0, CHAN1_INT_ST=0, RESERVED_0=1),\n",
      "  dp_1 = Register(dp=write-only),\n",
      "  dp_2 = Register(dp=write-only),\n",
      "  dp1_1 = Register(dp1=write-only),\n",
      "  dp1_2 = Register(dp1=write-only),\n",
      "  dp2_1 = Register(dp2=write-only),\n",
      "  dp2_2 = Register(dp2=write-only),\n",
      "  off_1 = Register(off=write-only),\n",
      "  off_2 = Register(off=write-only)\n",
      "}\n"
     ]
    }
   ],
   "source": [
    "a_rm = solver_ip.register_map\n",
    "print(a_rm)"
   ]
  },
  {
   "cell_type": "code",
   "execution_count": 45,
   "id": "a555d194",
   "metadata": {},
   "outputs": [
    {
     "name": "stdout",
     "output_type": "stream",
     "text": [
      "Hardware time: 0.654 ms\n",
      "Speedup (CPU/HW): 3.60x\n"
     ]
    }
   ],
   "source": [
    "# Configure solver IP\n",
    "rm = solver_ip.register_map\n",
    "rm.dp_r = float(np.real(dp))\n",
    "rm.dp_i = float(np.imag(dp))\n",
    "rm.dp1_r = float(np.real(dp1))\n",
    "rm.dp1_i = float(np.imag(dp1))\n",
    "rm.dp2_r = float(np.real(dp2))\n",
    "rm.dp2_i = float(np.imag(dp2))\n",
    "rm.off_r = float(np.real(off))\n",
    "rm.off_i = float(np.imag(off))\n",
    "rm.b = a_b.physical_address\n",
    "rm.x = a_x.physical_address\n",
    "\n",
    "# Run hardware solver\n",
    "t0 = time.time()\n",
    "rm.CTRL.AP_START = 1\n",
    "while True:\n",
    "    rm = solver_ip.register_map\n",
    "    if rm.CTRL.AP_DONE:\n",
    "        break\n",
    "hw_time = time.time() - t0\n",
    "print(f'Hardware time: {hw_time*1e3:.3f} ms')\n",
    "if hw_time > 0:\n",
    "    print(f'Speedup (CPU/HW): {cpu_time/hw_time:.2f}x')\n"
   ]
  },
  {
   "cell_type": "code",
   "execution_count": 46,
   "id": "862cea00",
   "metadata": {},
   "outputs": [
    {
     "name": "stdout",
     "output_type": "stream",
     "text": [
      "Results match: False\n",
      "CPU result x_ref [ 0.1836+0.1814j  0.14  +0.1526j  0.0341+0.0125j  0.1383+0.1765j\n",
      "  0.1588-0.0376j  0.0459+0.0898j  0.0539+0.1031j  0.2014-0.024j\n",
      "  0.03  +0.1827j  0.1898+0.0985j  0.0345+0.0009j  0.177 -0.0015j\n",
      "  0.1097+0.0271j  0.2055+0.2203j -0.03  -0.0217j  0.1196+0.1886j\n",
      "  0.097 -0.0344j  0.194 +0.0588j -0.0523+0.1326j  0.0974+0.0436j\n",
      " -0.0147+0.0692j  0.1351+0.1634j  0.187 +0.0975j  0.1082+0.1875j\n",
      "  0.0078-0.0485j  0.0725+0.0589j  0.129 +0.238j   0.1413-0.1222j\n",
      " -0.0132+0.2726j  0.0806-0.1056j  0.0919+0.2312j  0.217 +0.1615j\n",
      " -0.0001+0.0711j  0.1551+0.0478j -0.0177-0.0686j  0.0963+0.288j\n",
      "  0.0589-0.1076j  0.1252+0.1678j -0.0387+0.1324j  0.1776+0.1524j\n",
      "  0.0033+0.0504j  0.0403+0.0542j  0.2069+0.0519j  0.0685+0.1003j\n",
      "  0.1112+0.006j   0.043 +0.1542j -0.0066+0.1042j  0.0551+0.1439j\n",
      " -0.0243+0.0405j  0.1707+0.0004j -0.04  +0.2542j  0.1659-0.0896j\n",
      "  0.1267+0.1658j -0.0179+0.0255j  0.0836-0.0421j -0.0254+0.1726j\n",
      "  0.2009-0.0718j  0.1554+0.1754j -0.0597-0.0042j  0.2341-0.0043j\n",
      " -0.0528+0.0608j  0.0737+0.2435j  0.2238-0.0769j -0.0131+0.2428j]\n",
      "Hardware result x_hw [0.+0.j 0.+0.j 0.+0.j 0.+0.j 0.+0.j 0.+0.j 0.+0.j 0.+0.j 0.+0.j 0.+0.j\n",
      " 0.+0.j 0.+0.j 0.+0.j 0.+0.j 0.+0.j 0.+0.j 0.+0.j 0.+0.j 0.+0.j 0.+0.j\n",
      " 0.+0.j 0.+0.j 0.+0.j 0.+0.j 0.+0.j 0.+0.j 0.+0.j 0.+0.j 0.+0.j 0.+0.j\n",
      " 0.+0.j 0.+0.j 0.+0.j 0.+0.j 0.+0.j 0.+0.j 0.+0.j 0.+0.j 0.+0.j 0.+0.j\n",
      " 0.+0.j 0.+0.j 0.+0.j 0.+0.j 0.+0.j 0.+0.j 0.+0.j 0.+0.j 0.+0.j 0.+0.j\n",
      " 0.+0.j 0.+0.j 0.+0.j 0.+0.j 0.+0.j 0.+0.j 0.+0.j 0.+0.j 0.+0.j 0.+0.j\n",
      " 0.+0.j 0.+0.j 0.+0.j 0.+0.j]\n"
     ]
    }
   ],
   "source": [
    "# Compare results\n",
    "a_x.invalidate()\n",
    "x_hw = np.array(a_x)\n",
    "print('Results match:', np.allclose(x_ref, x_hw, atol=1e-6))\n",
    "print('CPU result x_ref', x_ref)\n",
    "print('Hardware result x_hw', x_hw)\n"
   ]
  },
  {
   "cell_type": "code",
   "execution_count": 32,
   "id": "2bdc5698",
   "metadata": {},
   "outputs": [
    {
     "ename": "AttributeError",
     "evalue": "'PynqBuffer' object has no attribute 'free'",
     "output_type": "error",
     "traceback": [
      "\u001b[0;31m---------------------------------------------------------------------------\u001b[0m",
      "\u001b[0;31mAttributeError\u001b[0m                            Traceback (most recent call last)",
      "Input \u001b[0;32mIn [32]\u001b[0m, in \u001b[0;36m<cell line: 2>\u001b[0;34m()\u001b[0m\n\u001b[1;32m      1\u001b[0m overlay\u001b[38;5;241m.\u001b[39mfree()\n\u001b[0;32m----> 2\u001b[0m \u001b[43ma_b\u001b[49m\u001b[38;5;241;43m.\u001b[39;49m\u001b[43mfree\u001b[49m()\n\u001b[1;32m      3\u001b[0m a_x\u001b[38;5;241m.\u001b[39mfree()\n",
      "\u001b[0;31mAttributeError\u001b[0m: 'PynqBuffer' object has no attribute 'free'"
     ]
    }
   ],
   "source": [
    "overlay.free()\n",
    "a_b.free()\n",
    "a_x.free()"
   ]
  },
  {
   "cell_type": "code",
   "execution_count": null,
   "id": "8dc9781d-7f9d-493b-9e20-793ed7e64089",
   "metadata": {},
   "outputs": [],
   "source": []
  }
 ],
 "metadata": {
  "kernelspec": {
   "display_name": "Python 3 (ipykernel)",
   "language": "python",
   "name": "python3"
  },
  "language_info": {
   "codemirror_mode": {
    "name": "ipython",
    "version": 3
   },
   "file_extension": ".py",
   "mimetype": "text/x-python",
   "name": "python",
   "nbconvert_exporter": "python",
   "pygments_lexer": "ipython3",
   "version": "3.10.12"
  }
 },
 "nbformat": 4,
 "nbformat_minor": 5
}