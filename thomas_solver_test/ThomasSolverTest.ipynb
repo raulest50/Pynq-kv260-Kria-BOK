{
 "cells": [
  {
   "cell_type": "markdown",
   "id": "a2de9176",
   "metadata": {},
   "source": [
    "# Thomas Solver Overlay Test\n",
    "\n",
    "This notebook compares the FPGA implementation of a tridiagonal matrix solver against a NumPy implementation. It measures the execution time of each approach and checks that both produce the same result."
   ]
  },
  {
   "cell_type": "code",
   "execution_count": 10,
   "id": "34f591a4",
   "metadata": {},
   "outputs": [],
   "source": [
    "from pynq import Overlay, allocate\n",
    "import numpy as np\n",
    "import time\n",
    "\n",
    "np.set_printoptions(precision=4, suppress=True)\n"
   ]
  },
  {
   "cell_type": "code",
   "execution_count": 11,
   "id": "2ee31f3c",
   "metadata": {},
   "outputs": [],
   "source": [
    "# Load overlay and inspect available IP blocks\n",
    "overlay = Overlay('custom_tomas_solver_v1.bit')\n",
    "# Replace 'thomas_solver_0' with the actual IP name from the printed dictionary if different\n",
    "solver_ip = overlay.thomas_solver_0"
   ]
  },
  {
   "cell_type": "code",
   "execution_count": 12,
   "id": "fd0c3e1e",
   "metadata": {},
   "outputs": [
    {
     "name": "stdout",
     "output_type": "stream",
     "text": [
      "Input vector b [0.9141+0.2686j 0.4551+0.7976j 0.3513+0.2684j 0.284 +0.9619j\n",
      " 0.7815+0.4927j 0.2275+0.891j  0.3806+0.9172j 0.0495+0.478j\n",
      " 0.2552+0.0953j 0.7201+0.5495j 0.5861+0.8005j 0.4889+0.601j\n",
      " 0.5873+0.3728j 0.8947+0.129j  0.4116+0.8828j 0.6522+0.7316j\n",
      " 0.5816+0.3477j 0.3404+0.9465j 0.2085+0.4867j 0.9248+0.0877j\n",
      " 0.7295+0.5121j 0.6251+0.3814j 0.4602+0.4612j 0.953 +0.3741j\n",
      " 0.0928+0.8212j 0.2334+0.091j  0.2059+0.6664j 0.4291+0.929j\n",
      " 0.8403+0.6256j 0.4249+0.894j  0.9489+0.6242j 0.6765+0.03j\n",
      " 0.6492+0.1133j 0.8278+0.9202j 0.7796+0.7289j 0.1505+0.3567j\n",
      " 0.5946+0.6956j 0.0142+0.6297j 0.9578+0.4876j 0.3588+0.6312j\n",
      " 0.9942+0.6034j 0.5767+0.6552j 0.0265+0.1522j 0.4656+0.4203j\n",
      " 0.1881+0.6939j 0.5865+0.0406j 0.4214+0.1869j 0.6582+0.1274j\n",
      " 0.1308+0.8068j 0.5059+0.229j  0.6821+0.9419j 0.0847+0.3653j\n",
      " 0.4368+0.4226j 0.4857+0.9976j 0.73  +0.2084j 0.9065+0.9736j\n",
      " 0.1799+0.6274j 0.5232+0.7405j 0.5347+0.591j  0.343 +0.7847j\n",
      " 0.3168+0.2156j 0.2964+0.1947j 0.3557+0.018j  0.8219+0.1297j]\n"
     ]
    }
   ],
   "source": [
    "N = 64\n",
    "# Constants describing the tridiagonal matrix\n",
    "dp = np.complex64(4+0j)\n",
    "dp1 = np.complex64(3+0j)\n",
    "dp2 = np.complex64(3+0j)\n",
    "off = np.complex64(1+0j)\n",
    "\n",
    "# Allocate buffers accessible to the FPGA\n",
    "a_b = allocate(shape=(N,), dtype=np.complex64)\n",
    "a_x = allocate(shape=(N,), dtype=np.complex64)\n",
    "\n",
    "# Random right-hand side vector\n",
    "b_np = (np.random.rand(N) + 1j*np.random.rand(N)).astype(np.complex64)\n",
    "a_b[:] = b_np\n",
    "a_x.fill(0)\n",
    "a_b.flush()\n",
    "a_x.flush()\n",
    "print('Input vector b', b_np)\n"
   ]
  },
  {
   "cell_type": "code",
   "execution_count": 13,
   "id": "18300b0b",
   "metadata": {},
   "outputs": [],
   "source": [
    "def thomas_solver_numpy(dp, dp1, dp2, off, b):\n",
    "    N = b.shape[0]\n",
    "    c_prime = np.empty(N, dtype=np.complex64)\n",
    "    d_prime = np.empty(N, dtype=np.complex64)\n",
    "    inv = 1.0/np.complex64(dp1)\n",
    "    c_prime[0] = off * inv\n",
    "    d_prime[0] = b[0] * inv\n",
    "    for i in range(1, N-1):\n",
    "        denom = dp - off * c_prime[i-1]\n",
    "        inv = 1.0/denom\n",
    "        c_prime[i] = off * inv\n",
    "        d_prime[i] = (b[i] - off * d_prime[i-1]) * inv\n",
    "    denom = dp2 - off * c_prime[N-2]\n",
    "    d_prime[N-1] = (b[N-1] - off * d_prime[N-2]) / denom\n",
    "    x = np.empty(N, dtype=np.complex64)\n",
    "    x[-1] = d_prime[-1]\n",
    "    for i in range(N-2, -1, -1):\n",
    "        x[i] = d_prime[i] - c_prime[i] * x[i+1]\n",
    "    return x"
   ]
  },
  {
   "cell_type": "code",
   "execution_count": 14,
   "id": "09878e2b",
   "metadata": {},
   "outputs": [
    {
     "name": "stdout",
     "output_type": "stream",
     "text": [
      "CPU time: 5.525 ms\n"
     ]
    }
   ],
   "source": [
    "# CPU reference implementation\n",
    "t0 = time.time()\n",
    "x_ref = thomas_solver_numpy(dp, dp1, dp2, off, b_np)\n",
    "cpu_time = time.time() - t0\n",
    "print(f'CPU time: {cpu_time*1e3:.3f} ms')\n"
   ]
  },
  {
   "cell_type": "code",
   "execution_count": 15,
   "id": "7d987222-ac20-4480-804a-f6a803c3c068",
   "metadata": {},
   "outputs": [
    {
     "name": "stdout",
     "output_type": "stream",
     "text": [
      "RegisterMap {\n",
      "  CTRL = Register(AP_START=0, AP_DONE=0, AP_IDLE=1, AP_READY=0, RESERVED_1=0, AUTO_RESTART=0, RESERVED_2=0, INTERRUPT=0, RESERVED_3=0),\n",
      "  GIER = Register(Enable=0, RESERVED=0),\n",
      "  IP_IER = Register(CHAN0_INT_EN=0, CHAN1_INT_EN=0, RESERVED_0=0),\n",
      "  IP_ISR = Register(CHAN0_INT_ST=0, CHAN1_INT_ST=0, RESERVED_0=0),\n",
      "  dp_1 = Register(dp=write-only),\n",
      "  dp_2 = Register(dp=write-only),\n",
      "  dp1_1 = Register(dp1=write-only),\n",
      "  dp1_2 = Register(dp1=write-only),\n",
      "  dp2_1 = Register(dp2=write-only),\n",
      "  dp2_2 = Register(dp2=write-only),\n",
      "  off_1 = Register(off=write-only),\n",
      "  off_2 = Register(off=write-only)\n",
      "}\n"
     ]
    }
   ],
   "source": [
    "a_rm = solver_ip.register_map\n",
    "print(a_rm)"
   ]
  },
  {
   "cell_type": "code",
   "execution_count": 16,
   "id": "a555d194",
   "metadata": {},
   "outputs": [
    {
     "name": "stdout",
     "output_type": "stream",
     "text": [
      "Hardware time: 0.701 ms\n",
      "Speedup (CPU/HW): 7.88x\n"
     ]
    }
   ],
   "source": [
    "# Configure solver IP\n",
    "rm = solver_ip.register_map\n",
    "rm.dp_r = float(np.real(dp))\n",
    "rm.dp_i = float(np.imag(dp))\n",
    "rm.dp1_r = float(np.real(dp1))\n",
    "rm.dp1_i = float(np.imag(dp1))\n",
    "rm.dp2_r = float(np.real(dp2))\n",
    "rm.dp2_i = float(np.imag(dp2))\n",
    "rm.off_r = float(np.real(off))\n",
    "rm.off_i = float(np.imag(off))\n",
    "rm.b = a_b.physical_address\n",
    "rm.x = a_x.physical_address\n",
    "\n",
    "# Run hardware solver\n",
    "t0 = time.time()\n",
    "rm.CTRL.AP_START = 1\n",
    "while True:\n",
    "    rm = solver_ip.register_map\n",
    "    if rm.CTRL.AP_DONE:\n",
    "        break\n",
    "hw_time = time.time() - t0\n",
    "print(f'Hardware time: {hw_time*1e3:.3f} ms')\n",
    "if hw_time > 0:\n",
    "    print(f'Speedup (CPU/HW): {cpu_time/hw_time:.2f}x')\n"
   ]
  },
  {
   "cell_type": "code",
   "execution_count": 17,
   "id": "862cea00",
   "metadata": {},
   "outputs": [
    {
     "name": "stdout",
     "output_type": "stream",
     "text": [
      "Results match: False\n",
      "CPU result x_ref [ 0.2986+0.021j   0.0183+0.2057j  0.0832-0.0463j  0.0002+0.2479j\n",
      "  0.2002+0.0168j -0.0196+0.1776j  0.1055+0.1638j -0.022 +0.0845j\n",
      "  0.0318-0.0237j  0.1499+0.1057j  0.0888+0.1505j  0.0808+0.0928j\n",
      "  0.0767+0.0791j  0.1997-0.0366j  0.0194+0.1963j  0.1343+0.1341j\n",
      "  0.0954-0.0012j  0.0655+0.2184j -0.017 +0.0741j  0.2109-0.0279j\n",
      "  0.0981+0.1254j  0.1263+0.0384j  0.0218+0.1024j  0.2466+0.0133j\n",
      " -0.0551+0.2186j  0.0667-0.0664j  0.0216+0.1379j  0.0529+0.1811j\n",
      "  0.1959+0.0666j  0.0038+0.1779j  0.214 +0.1158j  0.0892-0.0169j\n",
      "  0.1057-0.0182j  0.137 +0.2031j  0.174 +0.1259j -0.0535+0.0222j\n",
      "  0.1904+0.142j  -0.1134+0.1056j  0.2773+0.0654j -0.0379+0.1204j\n",
      "  0.2333+0.0841j  0.0988+0.1466j -0.0519-0.0152j  0.1351+0.0666j\n",
      " -0.0231+0.1692j  0.1455-0.0496j  0.0275+0.0697j  0.1658-0.0425j\n",
      " -0.0325+0.2276j  0.0952-0.061j   0.1578+0.2455j -0.0441+0.0211j\n",
      "  0.1035+0.0356j  0.0671+0.2592j  0.114 -0.0747j  0.2071+0.2481j\n",
      " -0.036 +0.056j   0.1168+0.1553j  0.092 +0.0635j  0.0498+0.1817j\n",
      "  0.0519-0.0054j  0.0596+0.0555j  0.006 -0.022j   0.272 +0.0506j]\n",
      "Hardware result x_hw [0.+0.j 0.+0.j 0.+0.j 0.+0.j 0.+0.j 0.+0.j 0.+0.j 0.+0.j 0.+0.j 0.+0.j\n",
      " 0.+0.j 0.+0.j 0.+0.j 0.+0.j 0.+0.j 0.+0.j 0.+0.j 0.+0.j 0.+0.j 0.+0.j\n",
      " 0.+0.j 0.+0.j 0.+0.j 0.+0.j 0.+0.j 0.+0.j 0.+0.j 0.+0.j 0.+0.j 0.+0.j\n",
      " 0.+0.j 0.+0.j 0.+0.j 0.+0.j 0.+0.j 0.+0.j 0.+0.j 0.+0.j 0.+0.j 0.+0.j\n",
      " 0.+0.j 0.+0.j 0.+0.j 0.+0.j 0.+0.j 0.+0.j 0.+0.j 0.+0.j 0.+0.j 0.+0.j\n",
      " 0.+0.j 0.+0.j 0.+0.j 0.+0.j 0.+0.j 0.+0.j 0.+0.j 0.+0.j 0.+0.j 0.+0.j\n",
      " 0.+0.j 0.+0.j 0.+0.j 0.+0.j]\n"
     ]
    }
   ],
   "source": [
    "# Compare results\n",
    "a_x.invalidate()\n",
    "x_hw = np.array(a_x)\n",
    "print('Results match:', np.allclose(x_ref, x_hw, atol=1e-6))\n",
    "print('CPU result x_ref', x_ref)\n",
    "print('Hardware result x_hw', x_hw)\n"
   ]
  },
  {
   "cell_type": "code",
   "execution_count": 18,
   "id": "2bdc5698",
   "metadata": {},
   "outputs": [
    {
     "ename": "AttributeError",
     "evalue": "'PynqBuffer' object has no attribute 'free'",
     "output_type": "error",
     "traceback": [
      "\u001b[0;31m---------------------------------------------------------------------------\u001b[0m",
      "\u001b[0;31mAttributeError\u001b[0m                            Traceback (most recent call last)",
      "Input \u001b[0;32mIn [18]\u001b[0m, in \u001b[0;36m<cell line: 2>\u001b[0;34m()\u001b[0m\n\u001b[1;32m      1\u001b[0m overlay\u001b[38;5;241m.\u001b[39mfree()\n\u001b[0;32m----> 2\u001b[0m \u001b[43ma_b\u001b[49m\u001b[38;5;241;43m.\u001b[39;49m\u001b[43mfree\u001b[49m()\n\u001b[1;32m      3\u001b[0m a_x\u001b[38;5;241m.\u001b[39mfree()\n",
      "\u001b[0;31mAttributeError\u001b[0m: 'PynqBuffer' object has no attribute 'free'"
     ]
    }
   ],
   "source": [
    "overlay.free()\n",
    "a_b.free()\n",
    "a_x.free()"
   ]
  },
  {
   "cell_type": "code",
   "execution_count": null,
   "id": "8dc9781d-7f9d-493b-9e20-793ed7e64089",
   "metadata": {},
   "outputs": [],
   "source": []
  }
 ],
 "metadata": {
  "kernelspec": {
   "display_name": "Python 3 (ipykernel)",
   "language": "python",
   "name": "python3"
  },
  "language_info": {
   "codemirror_mode": {
    "name": "ipython",
    "version": 3
   },
   "file_extension": ".py",
   "mimetype": "text/x-python",
   "name": "python",
   "nbconvert_exporter": "python",
   "pygments_lexer": "ipython3",
   "version": "3.10.12"
  }
 },
 "nbformat": 4,
 "nbformat_minor": 5
}
