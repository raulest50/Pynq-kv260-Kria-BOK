{
 "cells": [
  {
   "cell_type": "markdown",
   "id": "a2de9176",
   "metadata": {},
   "source": [
    "# Thomas Solver Overlay Test\n",
    "\n",
    "This notebook compares the FPGA implementation of a tridiagonal matrix solver against a NumPy implementation. It measures the execution time of each approach and checks that both produce the same result."
   ]
  },
  {
   "cell_type": "code",
   "execution_count": 15,
   "id": "34f591a4",
   "metadata": {},
   "outputs": [],
   "source": [
    "from pynq import Overlay, allocate\n",
    "import numpy as np\n",
    "import time\n",
    "\n",
    "np.set_printoptions(precision=4, suppress=True)\n"
   ]
  },
  {
   "cell_type": "code",
   "execution_count": 22,
   "id": "2ee31f3c",
   "metadata": {},
   "outputs": [],
   "source": [
    "# Load overlay and inspect available IP blocks\n",
    "overlay = Overlay('custom_tomas_solver_v1.bit')\n",
    "# Replace 'thomas_solver_0' with the actual IP name from the printed dictionary if different\n",
    "solver_ip = overlay.thomas_solver_0"
   ]
  },
  {
   "cell_type": "code",
   "execution_count": 23,
   "id": "fd0c3e1e",
   "metadata": {},
   "outputs": [
    {
     "name": "stdout",
     "output_type": "stream",
     "text": [
      "Input vector b [0.9951+0.2919j 0.5935+0.5928j 0.6198+0.505j  0.5183+0.2525j\n",
      " 0.4651+0.4984j 0.6998+0.8327j 0.1664+0.9751j 0.1527+0.33j\n",
      " 0.5166+0.7082j 0.0615+0.1517j 0.1662+0.8839j 0.4362+0.7738j\n",
      " 0.1737+0.8555j 0.0157+0.163j  0.3768+0.3657j 0.2823+0.4069j\n",
      " 0.7414+0.6674j 0.3859+0.7601j 0.6939+0.2425j 0.8607+0.5738j\n",
      " 0.6065+0.6454j 0.5069+0.705j  0.9654+0.9096j 0.8694+0.1258j\n",
      " 0.049 +0.8078j 0.1296+0.1774j 0.5161+0.9913j 0.694 +0.3089j\n",
      " 0.5499+0.5346j 0.3003+0.6355j 0.2576+0.5043j 0.8421+0.4894j\n",
      " 0.6225+0.8446j 0.7132+0.0236j 0.648 +0.4634j 0.0585+0.9294j\n",
      " 0.5342+0.4923j 0.2242+0.2272j 0.9805+0.6915j 0.6467+0.3867j\n",
      " 0.1612+0.5548j 0.2187+0.4103j 0.509 +0.6446j 0.8942+0.2929j\n",
      " 0.3422+0.5471j 0.0877+0.144j  0.0508+0.4213j 0.2647+0.267j\n",
      " 0.0522+0.9759j 0.6657+0.4402j 0.4171+0.6302j 0.3547+0.472j\n",
      " 0.1001+0.816j  0.0259+0.6463j 0.5059+0.6132j 0.0026+0.9244j\n",
      " 0.6982+0.3534j 0.009 +0.9845j 0.5562+0.6305j 0.9782+0.1778j\n",
      " 0.9225+0.2533j 0.0949+0.7248j 0.6995+0.2077j 0.4306+0.3071j]\n"
     ]
    }
   ],
   "source": [
    "N = 64\n",
    "# Constants describing the tridiagonal matrix\n",
    "dp = np.complex64(4+0j)\n",
    "dp1 = np.complex64(3+0j)\n",
    "dp2 = np.complex64(3+0j)\n",
    "off = np.complex64(1+0j)\n",
    "\n",
    "# Allocate buffers accessible to the FPGA\n",
    "a_b = allocate(shape=(N,), dtype=np.complex64)\n",
    "a_x = allocate(shape=(N,), dtype=np.complex64)\n",
    "\n",
    "# Random right-hand side vector\n",
    "b_np = (np.random.rand(N) + 1j*np.random.rand(N)).astype(np.complex64)\n",
    "a_b[:] = b_np\n",
    "print('Input vector b', b_np)\n"
   ]
  },
  {
   "cell_type": "code",
   "execution_count": 24,
   "id": "18300b0b",
   "metadata": {},
   "outputs": [],
   "source": [
    "def thomas_solver_numpy(dp, dp1, dp2, off, b):\n",
    "    N = b.shape[0]\n",
    "    c_prime = np.empty(N, dtype=np.complex64)\n",
    "    d_prime = np.empty(N, dtype=np.complex64)\n",
    "    inv = 1.0/np.complex64(dp1)\n",
    "    c_prime[0] = off * inv\n",
    "    d_prime[0] = b[0] * inv\n",
    "    for i in range(1, N-1):\n",
    "        denom = dp - off * c_prime[i-1]\n",
    "        inv = 1.0/denom\n",
    "        c_prime[i] = off * inv\n",
    "        d_prime[i] = (b[i] - off * d_prime[i-1]) * inv\n",
    "    denom = dp2 - off * c_prime[N-2]\n",
    "    d_prime[N-1] = (b[N-1] - off * d_prime[N-2]) / denom\n",
    "    x = np.empty(N, dtype=np.complex64)\n",
    "    x[-1] = d_prime[-1]\n",
    "    for i in range(N-2, -1, -1):\n",
    "        x[i] = d_prime[i] - c_prime[i] * x[i+1]\n",
    "    return x"
   ]
  },
  {
   "cell_type": "code",
   "execution_count": 26,
   "id": "09878e2b",
   "metadata": {},
   "outputs": [
    {
     "name": "stdout",
     "output_type": "stream",
     "text": [
      "CPU time: 2.424 ms\n"
     ]
    }
   ],
   "source": [
    "# CPU reference implementation\n",
    "t0 = time.time()\n",
    "x_ref = thomas_solver_numpy(dp, dp1, dp2, off, b_np)\n",
    "cpu_time = time.time() - t0\n",
    "print(f'CPU time: {cpu_time*1e3:.3f} ms')\n"
   ]
  },
  {
   "cell_type": "code",
   "execution_count": 27,
   "id": "7d987222-ac20-4480-804a-f6a803c3c068",
   "metadata": {},
   "outputs": [
    {
     "name": "stdout",
     "output_type": "stream",
     "text": [
      "RegisterMap {\n",
      "  CTRL = Register(AP_START=0, AP_DONE=0, AP_IDLE=1, AP_READY=0, RESERVED_1=0, AUTO_RESTART=0, RESERVED_2=0, INTERRUPT=0, RESERVED_3=0),\n",
      "  GIER = Register(Enable=0, RESERVED=2),\n",
      "  IP_IER = Register(CHAN0_INT_EN=0, CHAN1_INT_EN=0, RESERVED_0=1),\n",
      "  IP_ISR = Register(CHAN0_INT_ST=0, CHAN1_INT_ST=0, RESERVED_0=1),\n",
      "  dp_1 = Register(dp=write-only),\n",
      "  dp_2 = Register(dp=write-only),\n",
      "  dp1_1 = Register(dp1=write-only),\n",
      "  dp1_2 = Register(dp1=write-only),\n",
      "  dp2_1 = Register(dp2=write-only),\n",
      "  dp2_2 = Register(dp2=write-only),\n",
      "  off_1 = Register(off=write-only),\n",
      "  off_2 = Register(off=write-only)\n",
      "}\n"
     ]
    }
   ],
   "source": [
    "a_rm = solver_ip.register_map\n",
    "print(a_rm)"
   ]
  },
  {
   "cell_type": "code",
   "execution_count": 28,
   "id": "a555d194",
   "metadata": {},
   "outputs": [
    {
     "name": "stdout",
     "output_type": "stream",
     "text": [
      "Hardware time: 0.738 ms\n",
      "Speedup (CPU/HW): 3.29x\n"
     ]
    }
   ],
   "source": [
    "# Configure solver IP\n",
    "a_rm = solver_ip.register_map\n",
    "a_rm.dp_r = float(np.real(dp))\n",
    "a_rm.dp_i = float(np.imag(dp))\n",
    "a_rm.dp1_r = float(np.real(dp1))\n",
    "a_rm.dp1_i = float(np.imag(dp1))\n",
    "a_rm.dp2_r = float(np.real(dp2))\n",
    "a_rm.dp2_i = float(np.imag(dp2))\n",
    "a_rm.off_r = float(np.real(off))\n",
    "a_rm.off_i = float(np.imag(off))\n",
    "a_rm.b = a_b.physical_address\n",
    "a_rm.x = a_x.physical_address\n",
    "\n",
    "# Run hardware solver\n",
    "t0 = time.time()\n",
    "a_rm.CTRL.AP_START = 1\n",
    "while a_rm.CTRL.AP_DONE == 0:\n",
    "    a_rm = solver_ip.register_map\n",
    "hw_time = time.time() - t0\n",
    "print(f'Hardware time: {hw_time*1e3:.3f} ms')\n",
    "if hw_time > 0:\n",
    "    print(f'Speedup (CPU/HW): {cpu_time/hw_time:.2f}x')\n"
   ]
  },
  {
   "cell_type": "code",
   "execution_count": 30,
   "id": "862cea00",
   "metadata": {},
   "outputs": [
    {
     "name": "stdout",
     "output_type": "stream",
     "text": [
      "Results match: False\n",
      "CPU result x_ref [ 0.3192+0.0608j  0.0375+0.1094j  0.1244+0.0945j  0.0848+0.0177j\n",
      "  0.0548+0.087j   0.1612+0.1324j  0.0001+0.216j   0.0047-0.0212j\n",
      "  0.134 +0.1987j -0.024 -0.0655j  0.0234+0.2149j  0.0966+0.09j\n",
      "  0.0263+0.199j  -0.0279-0.0305j  0.1011+0.086j   0.0001+0.052j\n",
      "  0.1805+0.1127j  0.0191+0.1644j  0.1291-0.0102j  0.1584+0.1189j\n",
      "  0.0978+0.1085j  0.0568+0.0927j  0.1818+0.2258j  0.1814-0.0862j\n",
      " -0.0378+0.2448j  0.0187-0.0853j  0.0926+0.2739j  0.1271-0.019j\n",
      "  0.093 +0.1111j  0.0508+0.1093j  0.0042+0.0872j  0.1901+0.0463j\n",
      "  0.0776+0.217j   0.1222-0.0697j  0.1469+0.0853j -0.0619+0.192j\n",
      "  0.1593+0.0761j -0.0412-0.0042j  0.2297+0.168j   0.1029+0.0235j\n",
      "  0.0056+0.1245j  0.0361+0.0331j  0.0686+0.1532j  0.1985-0.0012j\n",
      "  0.0317+0.1445j  0.017 -0.0299j -0.0119+0.119j   0.0815-0.0248j\n",
      " -0.0493+0.2472j  0.1678+0.0121j  0.0439+0.1446j  0.0737+0.0396j\n",
      "  0.0159+0.1688j -0.0373+0.101j   0.1593+0.0734j -0.0938+0.2186j\n",
      "  0.2185-0.0232j -0.0821+0.2278j  0.1188+0.0964j  0.1629+0.017j\n",
      "  0.2076+0.0133j -0.0709+0.1832j  0.171 -0.0212j  0.0866+0.1095j]\n",
      "Hardware result x_hw [0.+0.j 0.+0.j 0.+0.j 0.+0.j 0.+0.j 0.+0.j 0.+0.j 0.+0.j 0.+0.j 0.+0.j\n",
      " 0.+0.j 0.+0.j 0.+0.j 0.+0.j 0.+0.j 0.+0.j 0.+0.j 0.+0.j 0.+0.j 0.+0.j\n",
      " 0.+0.j 0.+0.j 0.+0.j 0.+0.j 0.+0.j 0.+0.j 0.+0.j 0.+0.j 0.+0.j 0.+0.j\n",
      " 0.+0.j 0.+0.j 0.+0.j 0.+0.j 0.+0.j 0.+0.j 0.+0.j 0.+0.j 0.+0.j 0.+0.j\n",
      " 0.+0.j 0.+0.j 0.+0.j 0.+0.j 0.+0.j 0.+0.j 0.+0.j 0.+0.j 0.+0.j 0.+0.j\n",
      " 0.+0.j 0.+0.j 0.+0.j 0.+0.j 0.+0.j 0.+0.j 0.+0.j 0.+0.j 0.+0.j 0.+0.j\n",
      " 0.+0.j 0.+0.j 0.+0.j 0.+0.j]\n"
     ]
    }
   ],
   "source": [
    "# Compare results\n",
    "x_hw = np.array(a_x)\n",
    "print('Results match:', np.allclose(x_ref, x_hw, atol=1e-6))\n",
    "print('CPU result x_ref', x_ref)\n",
    "print('Hardware result x_hw', x_hw)\n"
   ]
  },
  {
   "cell_type": "code",
   "execution_count": 32,
   "id": "2bdc5698",
   "metadata": {},
   "outputs": [
    {
     "ename": "AttributeError",
     "evalue": "'PynqBuffer' object has no attribute 'free'",
     "output_type": "error",
     "traceback": [
      "\u001b[0;31m---------------------------------------------------------------------------\u001b[0m",
      "\u001b[0;31mAttributeError\u001b[0m                            Traceback (most recent call last)",
      "Input \u001b[0;32mIn [32]\u001b[0m, in \u001b[0;36m<cell line: 2>\u001b[0;34m()\u001b[0m\n\u001b[1;32m      1\u001b[0m overlay\u001b[38;5;241m.\u001b[39mfree()\n\u001b[0;32m----> 2\u001b[0m \u001b[43ma_b\u001b[49m\u001b[38;5;241;43m.\u001b[39;49m\u001b[43mfree\u001b[49m()\n\u001b[1;32m      3\u001b[0m a_x\u001b[38;5;241m.\u001b[39mfree()\n",
      "\u001b[0;31mAttributeError\u001b[0m: 'PynqBuffer' object has no attribute 'free'"
     ]
    }
   ],
   "source": [
    "overlay.free()\n",
    "a_b.free()\n",
    "a_x.free()"
   ]
  },
  {
   "cell_type": "code",
   "execution_count": null,
   "id": "8dc9781d-7f9d-493b-9e20-793ed7e64089",
   "metadata": {},
   "outputs": [],
   "source": []
  }
 ],
 "metadata": {
  "kernelspec": {
   "display_name": "Python 3 (ipykernel)",
   "language": "python",
   "name": "python3"
  },
  "language_info": {
   "codemirror_mode": {
    "name": "ipython",
    "version": 3
   },
   "file_extension": ".py",
   "mimetype": "text/x-python",
   "name": "python",
   "nbconvert_exporter": "python",
   "pygments_lexer": "ipython3",
   "version": "3.10.12"
  }
 },
 "nbformat": 4,
 "nbformat_minor": 5
}
