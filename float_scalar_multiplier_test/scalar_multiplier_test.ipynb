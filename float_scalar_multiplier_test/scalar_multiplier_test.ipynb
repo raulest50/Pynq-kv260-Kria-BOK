{
 "cells": [
  {
   "cell_type": "code",
   "execution_count": 35,
   "id": "a8e396e3-556c-4268-808d-e7858b06d531",
   "metadata": {},
   "outputs": [],
   "source": [
    "from pynq import Overlay\n",
    "import time\n",
    "overlay = Overlay('sistema.bit')"
   ]
  },
  {
   "cell_type": "code",
   "execution_count": 36,
   "id": "672802b6-b8bf-48e6-a615-5aa7ef4e92cb",
   "metadata": {},
   "outputs": [
    {
     "name": "stdout",
     "output_type": "stream",
     "text": [
      "Help on Overlay in module pynq.overlay:\n",
      "\n",
      "<pynq.overlay.Overlay object>\n",
      "    Default documentation for overlay sistema.bit. The following\n",
      "    attributes are available on this overlay:\n",
      "    \n",
      "    IP Blocks\n",
      "    ----------\n",
      "    axi_intc_0           : pynq.overlay.DefaultIP\n",
      "    scalar_mult_0        : pynq.overlay.DefaultIP\n",
      "    zynq_ultra_ps_e_0    : pynq.overlay.DefaultIP\n",
      "    \n",
      "    Hierarchies\n",
      "    -----------\n",
      "    None\n",
      "    \n",
      "    Interrupts\n",
      "    ----------\n",
      "    None\n",
      "    \n",
      "    GPIO Outputs\n",
      "    ------------\n",
      "    None\n",
      "    \n",
      "    Memories\n",
      "    ------------\n",
      "    PSDDR                : Memory\n",
      "\n"
     ]
    }
   ],
   "source": [
    "help(overlay)"
   ]
  },
  {
   "cell_type": "code",
   "execution_count": 37,
   "id": "5e67b986-cac6-4921-80e2-6831194c0461",
   "metadata": {},
   "outputs": [],
   "source": [
    "def float_to_uint32(f):\n",
    "    return int(np.frombuffer(np.float32(f).tobytes(), dtype=np.uint32)[0])\n",
    "\n",
    "def uint32_to_float(u):\n",
    "    return np.frombuffer(np.uint32(u).tobytes(), dtype=np.float32)[0]"
   ]
  },
  {
   "cell_type": "code",
   "execution_count": 38,
   "id": "6384cb4e-d1ad-4dc1-89db-7633f808a47c",
   "metadata": {},
   "outputs": [],
   "source": [
    "k = overlay.scalar_mult_0"
   ]
  },
  {
   "cell_type": "code",
   "execution_count": 41,
   "id": "8b49d797-a158-4ef1-80d6-871e3b90e235",
   "metadata": {},
   "outputs": [
    {
     "data": {
      "text/plain": [
       "2.0"
      ]
     },
     "execution_count": 41,
     "metadata": {},
     "output_type": "execute_result"
    }
   ],
   "source": [
    "k.register_map.a = float_to_uint32(1)\n",
    "k.register_map.b = float_to_uint32(1)\n",
    "k.register_map.CTRL.AP_START = 1\n",
    "time.sleep(0.01)\n",
    "uint32_to_float(k.register_map.prod)"
   ]
  }
 ],
 "metadata": {
  "kernelspec": {
   "display_name": "Python 3 (ipykernel)",
   "language": "python",
   "name": "python3"
  },
  "language_info": {
   "codemirror_mode": {
    "name": "ipython",
    "version": 3
   },
   "file_extension": ".py",
   "mimetype": "text/x-python",
   "name": "python",
   "nbconvert_exporter": "python",
   "pygments_lexer": "ipython3",
   "version": "3.10.12"
  }
 },
 "nbformat": 4,
 "nbformat_minor": 5
}
