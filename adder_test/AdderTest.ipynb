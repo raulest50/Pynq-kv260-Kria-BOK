{
 "cells": [
  {
   "cell_type": "code",
   "execution_count": 18,
   "id": "99974ad6-5d06-4a41-937b-a74586b6de6a",
   "metadata": {},
   "outputs": [
    {
     "data": {
      "text/plain": [
       "'/root/jupyter_notebooks/AdderTest'"
      ]
     },
     "execution_count": 18,
     "metadata": {},
     "output_type": "execute_result"
    }
   ],
   "source": [
    "%pwd"
   ]
  },
  {
   "cell_type": "code",
   "execution_count": 12,
   "id": "54feb185-b782-456a-8140-62cd88f359ac",
   "metadata": {},
   "outputs": [
    {
     "data": {
      "application/javascript": [
       "\n",
       "try {\n",
       "require(['notebook/js/codecell'], function(codecell) {\n",
       "  codecell.CodeCell.options_default.highlight_modes[\n",
       "      'magic_text/x-csrc'] = {'reg':[/^%%microblaze/]};\n",
       "  Jupyter.notebook.events.one('kernel_ready.Kernel', function(){\n",
       "      Jupyter.notebook.get_cells().map(function(cell){\n",
       "          if (cell.cell_type == 'code'){ cell.auto_highlight(); } }) ;\n",
       "  });\n",
       "});\n",
       "} catch (e) {};\n"
      ]
     },
     "metadata": {},
     "output_type": "display_data"
    },
    {
     "data": {
      "application/javascript": [
       "\n",
       "try {\n",
       "require(['notebook/js/codecell'], function(codecell) {\n",
       "  codecell.CodeCell.options_default.highlight_modes[\n",
       "      'magic_text/x-csrc'] = {'reg':[/^%%pybind11/]};\n",
       "  Jupyter.notebook.events.one('kernel_ready.Kernel', function(){\n",
       "      Jupyter.notebook.get_cells().map(function(cell){\n",
       "          if (cell.cell_type == 'code'){ cell.auto_highlight(); } }) ;\n",
       "  });\n",
       "});\n",
       "} catch (e) {};\n"
      ]
     },
     "metadata": {},
     "output_type": "display_data"
    }
   ],
   "source": [
    "from pynq import Overlay\n",
    "\n",
    "overlay = Overlay('sistema.bit')"
   ]
  },
  {
   "cell_type": "code",
   "execution_count": 13,
   "id": "d325fb5c-bbc6-48b1-84be-4ff37b7a00a4",
   "metadata": {},
   "outputs": [
    {
     "name": "stdout",
     "output_type": "stream",
     "text": [
      "Help on Overlay in module pynq.overlay:\n",
      "\n",
      "<pynq.overlay.Overlay object>\n",
      "    Default documentation for overlay sistema.bit. The following\n",
      "    attributes are available on this overlay:\n",
      "    \n",
      "    IP Blocks\n",
      "    ----------\n",
      "    axi_intc_0           : pynq.overlay.DefaultIP\n",
      "    adder_0              : pynq.overlay.DefaultIP\n",
      "    zynq_ultra_ps_e_0    : pynq.overlay.DefaultIP\n",
      "    \n",
      "    Hierarchies\n",
      "    -----------\n",
      "    None\n",
      "    \n",
      "    Interrupts\n",
      "    ----------\n",
      "    None\n",
      "    \n",
      "    GPIO Outputs\n",
      "    ------------\n",
      "    None\n",
      "    \n",
      "    Memories\n",
      "    ------------\n",
      "    PSDDR                : Memory\n",
      "\n"
     ]
    }
   ],
   "source": [
    "help(overlay)"
   ]
  },
  {
   "cell_type": "code",
   "execution_count": 14,
   "id": "512cfffd-30ae-4774-8860-104a9912c99c",
   "metadata": {},
   "outputs": [
    {
     "name": "stdout",
     "output_type": "stream",
     "text": [
      "Help on DefaultIP in module pynq.overlay object:\n",
      "\n",
      "class DefaultIP(builtins.object)\n",
      " |  DefaultIP(description)\n",
      " |  \n",
      " |  Driver for an IP without a more specific driver\n",
      " |  \n",
      " |  This driver wraps an MMIO device and provides a base class\n",
      " |  for more specific drivers written later. It also provides\n",
      " |  access to GPIO outputs and interrupts inputs via attributes. More specific\n",
      " |  drivers should inherit from `DefaultIP` and include a\n",
      " |  `bindto` entry containing all of the IP that the driver\n",
      " |  should bind to. Subclasses meeting these requirements will\n",
      " |  automatically be registered.\n",
      " |  \n",
      " |  Attributes\n",
      " |  ----------\n",
      " |  mmio : pynq.MMIO\n",
      " |      Underlying MMIO driver for the device\n",
      " |  _interrupts : dict\n",
      " |      Subset of the PL.interrupt_pins related to this IP\n",
      " |  _gpio : dict\n",
      " |      Subset of the PL.gpio_dict related to this IP\n",
      " |  \n",
      " |  Methods defined here:\n",
      " |  \n",
      " |  __init__(self, description)\n",
      " |      Initialize self.  See help(type(self)) for accurate signature.\n",
      " |  \n",
      " |  read(self, offset=0)\n",
      " |      Read from the MMIO device\n",
      " |      \n",
      " |      Parameters\n",
      " |      ----------\n",
      " |      offset : int\n",
      " |          Address to read\n",
      " |  \n",
      " |  write(self, offset, value)\n",
      " |      Write to the MMIO device\n",
      " |      \n",
      " |      Parameters\n",
      " |      ----------\n",
      " |      offset : int\n",
      " |          Address to write to\n",
      " |      value : int or bytes\n",
      " |          Data to write\n",
      " |  \n",
      " |  ----------------------------------------------------------------------\n",
      " |  Readonly properties defined here:\n",
      " |  \n",
      " |  register_map\n",
      " |  \n",
      " |  signature\n",
      " |      The signature of the `call` method\n",
      " |  \n",
      " |  ----------------------------------------------------------------------\n",
      " |  Data descriptors defined here:\n",
      " |  \n",
      " |  __dict__\n",
      " |      dictionary for instance variables (if defined)\n",
      " |  \n",
      " |  __weakref__\n",
      " |      list of weak references to the object (if defined)\n",
      "\n"
     ]
    }
   ],
   "source": [
    "addk = overlay.adder_0\n",
    "help(addk)"
   ]
  },
  {
   "cell_type": "code",
   "execution_count": 15,
   "id": "cc1dc703-c772-4040-a44a-308d95a3b710",
   "metadata": {},
   "outputs": [
    {
     "name": "stdout",
     "output_type": "stream",
     "text": [
      "Help on RegisterMapadder_0 in module pynq.registers object:\n",
      "\n",
      "class RegisterMapadder_0(RegisterMap)\n",
      " |  RegisterMapadder_0(buffer)\n",
      " |  \n",
      " |  Method resolution order:\n",
      " |      RegisterMapadder_0\n",
      " |      RegisterMap\n",
      " |      builtins.object\n",
      " |  \n",
      " |  Readonly properties defined here:\n",
      " |  \n",
      " |  ap_return\n",
      " |      Data signal of ap_return\n",
      " |  \n",
      " |  sum\n",
      " |      Data signal of sum\n",
      " |  \n",
      " |  sum_ctrl\n",
      " |      Control signal of sum\n",
      " |  \n",
      " |  ----------------------------------------------------------------------\n",
      " |  Data descriptors defined here:\n",
      " |  \n",
      " |  CTRL\n",
      " |      Control signals\n",
      " |  \n",
      " |  GIER\n",
      " |      Global Interrupt Enable Register\n",
      " |  \n",
      " |  IP_IER\n",
      " |      IP Interrupt Enable Register\n",
      " |  \n",
      " |  IP_ISR\n",
      " |      IP Interrupt Status Register\n",
      " |  \n",
      " |  a\n",
      " |      Data signal of a\n",
      " |  \n",
      " |  b\n",
      " |      Data signal of b\n",
      " |  \n",
      " |  ----------------------------------------------------------------------\n",
      " |  Methods inherited from RegisterMap:\n",
      " |  \n",
      " |  __init__(self, buffer)\n",
      " |      Create a new instance of the RegisterMap\n",
      " |      \n",
      " |      Parameters\n",
      " |      ----------\n",
      " |      buffer : buffer-like\n",
      " |          A Python buffer object to bind the register map to\n",
      " |  \n",
      " |  __repr__(self)\n",
      " |      Return repr(self).\n",
      " |  \n",
      " |  ----------------------------------------------------------------------\n",
      " |  Class methods inherited from RegisterMap:\n",
      " |  \n",
      " |  create_subclass(name, registers) from builtins.type\n",
      " |      Create a new RegisterMap subclass with the specified registers\n",
      " |      \n",
      " |      The dictionary should have the same form as the \"registers\" entry in\n",
      " |      the ip_dict. For example::\n",
      " |      \n",
      " |           {name : {\"address_offset\" : int,\n",
      " |                    \"access\" : \"read-only\" | \"write-only\" | \"read-write\",\n",
      " |                    \"size\" : int,\n",
      " |                    \"description\" : str,\n",
      " |                    \"fields\" : dict}}\n",
      " |      \n",
      " |      For details on the contents of the \"fields\" entry see the `Register`\n",
      " |      class documentation.\n",
      " |      \n",
      " |      Parameters\n",
      " |      ----------\n",
      " |      name : str\n",
      " |          Suffix to append to \"RegisterMap\" to make the name of the new class\n",
      " |      registers : dict\n",
      " |          Dictionary of the registers to create in the subclass\n",
      " |  \n",
      " |  ----------------------------------------------------------------------\n",
      " |  Data descriptors inherited from RegisterMap:\n",
      " |  \n",
      " |  __dict__\n",
      " |      dictionary for instance variables (if defined)\n",
      " |  \n",
      " |  __weakref__\n",
      " |      list of weak references to the object (if defined)\n",
      "\n"
     ]
    }
   ],
   "source": [
    "help(addk.register_map)"
   ]
  },
  {
   "cell_type": "code",
   "execution_count": 17,
   "id": "3cab199a-5993-4e8f-a4f6-2a0ffb43957e",
   "metadata": {},
   "outputs": [
    {
     "data": {
      "text/plain": [
       "Register(sum=7)"
      ]
     },
     "execution_count": 17,
     "metadata": {},
     "output_type": "execute_result"
    }
   ],
   "source": [
    "import time\n",
    "addk.register_map.a = 1\n",
    "addk.register_map.b = 4\n",
    "addk.register_map.CTRL.AP_START = 1 # inportante, para indicar al kernel que comience a procesar\n",
    "time.sleep(0.01)\n",
    "addk.register_map.sum\n"
   ]
  }
 ],
 "metadata": {
  "kernelspec": {
   "display_name": "Python 3 (ipykernel)",
   "language": "python",
   "name": "python3"
  },
  "language_info": {
   "codemirror_mode": {
    "name": "ipython",
    "version": 3
   },
   "file_extension": ".py",
   "mimetype": "text/x-python",
   "name": "python",
   "nbconvert_exporter": "python",
   "pygments_lexer": "ipython3",
   "version": "3.10.12"
  }
 },
 "nbformat": 4,
 "nbformat_minor": 5
}
