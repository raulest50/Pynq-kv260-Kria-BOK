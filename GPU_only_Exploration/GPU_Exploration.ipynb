{
 "cells": [
  {
   "cell_type": "code",
   "execution_count": 1,
   "id": "1fa9bdcd-76e6-4858-aec9-00f9fcef3ea6",
   "metadata": {},
   "outputs": [
    {
     "data": {
      "text/plain": [
       "['pip 25.0.1 from /usr/local/share/pynq-venv/lib/python3.10/site-packages/pip (python 3.10)']"
      ]
     },
     "execution_count": 1,
     "metadata": {},
     "output_type": "execute_result"
    }
   ],
   "source": [
    "%system pip --version"
   ]
  },
  {
   "cell_type": "code",
   "execution_count": 2,
   "id": "09d9dd65-6b00-472b-9214-534b8eb7b677",
   "metadata": {},
   "outputs": [
    {
     "name": "stdout",
     "output_type": "stream",
     "text": [
      "pip 25.0.1 from /usr/local/share/pynq-venv/lib/python3.10/site-packages/pip (python 3.10)\n",
      "Note: you may need to restart the kernel to use updated packages.\n"
     ]
    }
   ],
   "source": [
    "%pip --version"
   ]
  },
  {
   "cell_type": "code",
   "execution_count": 3,
   "id": "fec6477b-3446-4939-b5a9-192db459489b",
   "metadata": {},
   "outputs": [
    {
     "name": "stdout",
     "output_type": "stream",
     "text": [
      "pip 25.0.1 from /usr/local/share/pynq-venv/lib/python3.10/site-packages/pip (python 3.10)\n"
     ]
    }
   ],
   "source": [
    "!pip --version"
   ]
  },
  {
   "cell_type": "code",
   "execution_count": 4,
   "id": "5031b830-1cd0-4241-921f-0dafc0a6fb46",
   "metadata": {},
   "outputs": [
    {
     "name": "stdout",
     "output_type": "stream",
     "text": [
      "Python 3.10.12\n"
     ]
    }
   ],
   "source": [
    "!python --version"
   ]
  },
  {
   "cell_type": "code",
   "execution_count": 5,
   "id": "b9d6798f-9b01-4dcd-bf6a-2b3b942edee7",
   "metadata": {},
   "outputs": [
    {
     "data": {
      "text/plain": [
       "['unknown option --verion',\n",
       " 'usage: python3 [option] ... [-c cmd | -m mod | file | -] [arg] ...',\n",
       " \"Try `python -h' for more information.\"]"
      ]
     },
     "execution_count": 5,
     "metadata": {},
     "output_type": "execute_result"
    }
   ],
   "source": [
    "%system python3 --verion"
   ]
  },
  {
   "cell_type": "code",
   "execution_count": 11,
   "id": "afacd46e-0fea-4927-9bba-7b186cbd3260",
   "metadata": {},
   "outputs": [
    {
     "name": "stdout",
     "output_type": "stream",
     "text": [
      "Reading package lists... Done\n",
      "Building dependency tree... Done\n",
      "Reading state information... Done\n",
      "ocl-icd-opencl-dev is already the newest version (2.2.14-3).\n",
      "opencl-headers is already the newest version (3.0~2022.01.04-1).\n",
      "0 upgraded, 0 newly installed, 0 to remove and 25 not upgraded.\n"
     ]
    }
   ],
   "source": [
    "!sudo apt install ocl-icd-opencl-dev opencl-headers"
   ]
  },
  {
   "cell_type": "code",
   "execution_count": 8,
   "id": "a78d1580-b240-48fa-b368-9306b3f0d42b",
   "metadata": {},
   "outputs": [
    {
     "name": "stdout",
     "output_type": "stream",
     "text": [
      "Requirement already satisfied: pyopencl in /usr/local/share/pynq-venv/lib/python3.10/site-packages (2025.1)\n",
      "Requirement already satisfied: numpy in /usr/local/share/pynq-venv/lib/python3.10/site-packages (from pyopencl) (1.26.4)\n",
      "Requirement already satisfied: platformdirs>=2.2 in /usr/local/share/pynq-venv/lib/python3.10/site-packages (from pyopencl) (4.3.7)\n",
      "Requirement already satisfied: pytools>=2024.1.5 in /usr/local/share/pynq-venv/lib/python3.10/site-packages (from pyopencl) (2025.1.2)\n",
      "Requirement already satisfied: typing-extensions>=4.5 in /usr/local/share/pynq-venv/lib/python3.10/site-packages (from pytools>=2024.1.5->pyopencl) (4.13.2)\n",
      "Note: you may need to restart the kernel to use updated packages.\n"
     ]
    }
   ],
   "source": [
    "%pip install pyopencl"
   ]
  },
  {
   "cell_type": "code",
   "execution_count": 10,
   "id": "f501dfb1-f956-45d5-bf11-defe5cabb7d9",
   "metadata": {},
   "outputs": [
    {
     "name": "stdout",
     "output_type": "stream",
     "text": [
      "Collecting siphash24\n",
      "  Downloading siphash24-1.7-cp310-cp310-manylinux_2_17_aarch64.manylinux2014_aarch64.whl.metadata (3.3 kB)\n",
      "Downloading siphash24-1.7-cp310-cp310-manylinux_2_17_aarch64.manylinux2014_aarch64.whl (101 kB)\n",
      "Installing collected packages: siphash24\n",
      "Successfully installed siphash24-1.7\n"
     ]
    }
   ],
   "source": [
    "!python3 -m pip install siphash24"
   ]
  },
  {
   "cell_type": "code",
   "execution_count": 3,
   "id": "cf4a27af-7d47-48f2-bedc-195dea236479",
   "metadata": {},
   "outputs": [
    {
     "name": "stdout",
     "output_type": "stream",
     "text": [
      "No GPU found\n"
     ]
    }
   ],
   "source": [
    "import pyopencl as cl\n",
    "\n",
    "# 1) Lista plataformas\n",
    "platforms = cl.get_platforms()  # descifra todas las implementaciones de OpenCL :contentReference[oaicite:6]{index=6}\n",
    "\n",
    "# 2) Filtra dispositivos GPU\n",
    "gpu_devices = []\n",
    "for plat in platforms:\n",
    "    for dev in plat.get_devices(cl.device_type.ALL):\n",
    "        if dev.get_info(cl.device_info.TYPE) == cl.device_type.GPU:\n",
    "            gpu_devices.append(dev)\n",
    "\n",
    "# 3) Resultado\n",
    "if not gpu_devices:\n",
    "    print(\"No GPU found\")\n",
    "else:\n",
    "    print(f\"Found {len(gpu_devices)} GPU(s):\")\n",
    "    for gpu in gpu_devices:\n",
    "        print(\" \", gpu.name)\n"
   ]
  }
 ],
 "metadata": {
  "kernelspec": {
   "display_name": "Python 3 (ipykernel)",
   "language": "python",
   "name": "python3"
  },
  "language_info": {
   "codemirror_mode": {
    "name": "ipython",
    "version": 3
   },
   "file_extension": ".py",
   "mimetype": "text/x-python",
   "name": "python",
   "nbconvert_exporter": "python",
   "pygments_lexer": "ipython3",
   "version": "3.10.12"
  }
 },
 "nbformat": 4,
 "nbformat_minor": 5
}
