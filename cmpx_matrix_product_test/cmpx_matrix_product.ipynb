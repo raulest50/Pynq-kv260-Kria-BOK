{
 "cells": [
  {
   "cell_type": "code",
   "execution_count": 3,
   "id": "1bcce47b-cd1f-4e06-98c3-860bc8cf48d6",
   "metadata": {},
   "outputs": [],
   "source": [
    "import numpy as np\n",
    "import time\n",
    "from pynq import Overlay, allocate"
   ]
  },
  {
   "cell_type": "code",
   "execution_count": 4,
   "id": "9e13d136-ad02-4b48-8bfd-cdc94f759ca0",
   "metadata": {},
   "outputs": [
    {
     "data": {
      "application/javascript": [
       "\n",
       "try {\n",
       "require(['notebook/js/codecell'], function(codecell) {\n",
       "  codecell.CodeCell.options_default.highlight_modes[\n",
       "      'magic_text/x-csrc'] = {'reg':[/^%%microblaze/]};\n",
       "  Jupyter.notebook.events.one('kernel_ready.Kernel', function(){\n",
       "      Jupyter.notebook.get_cells().map(function(cell){\n",
       "          if (cell.cell_type == 'code'){ cell.auto_highlight(); } }) ;\n",
       "  });\n",
       "});\n",
       "} catch (e) {};\n"
      ]
     },
     "metadata": {},
     "output_type": "display_data"
    },
    {
     "data": {
      "application/javascript": [
       "\n",
       "try {\n",
       "require(['notebook/js/codecell'], function(codecell) {\n",
       "  codecell.CodeCell.options_default.highlight_modes[\n",
       "      'magic_text/x-csrc'] = {'reg':[/^%%pybind11/]};\n",
       "  Jupyter.notebook.events.one('kernel_ready.Kernel', function(){\n",
       "      Jupyter.notebook.get_cells().map(function(cell){\n",
       "          if (cell.cell_type == 'code'){ cell.auto_highlight(); } }) ;\n",
       "  });\n",
       "});\n",
       "} catch (e) {};\n"
      ]
     },
     "metadata": {},
     "output_type": "display_data"
    },
    {
     "name": "stdout",
     "output_type": "stream",
     "text": [
      "Help on Overlay in module pynq.overlay:\n",
      "\n",
      "<pynq.overlay.Overlay object>\n",
      "    Default documentation for overlay sistema.bit. The following\n",
      "    attributes are available on this overlay:\n",
      "    \n",
      "    IP Blocks\n",
      "    ----------\n",
      "    cmpx_mat_product_0   : pynq.overlay.DefaultIP\n",
      "    axi_intc_0           : pynq.overlay.DefaultIP\n",
      "    zynq_ultra_ps_e_0    : pynq.overlay.DefaultIP\n",
      "    \n",
      "    Hierarchies\n",
      "    -----------\n",
      "    None\n",
      "    \n",
      "    Interrupts\n",
      "    ----------\n",
      "    None\n",
      "    \n",
      "    GPIO Outputs\n",
      "    ------------\n",
      "    None\n",
      "    \n",
      "    Memories\n",
      "    ------------\n",
      "    PSDDR                : Memory\n",
      "\n"
     ]
    }
   ],
   "source": [
    "# Load the overlay (ensure the bitstream is compiled from the HLS kernel above)\n",
    "ol = Overlay(\"sistema.bit\")\n",
    "\n",
    "# Get the kernel instance (adjust the instance name if needed; here assumed to be cmpx_matmul_0)\n",
    "help(ol)"
   ]
  },
  {
   "cell_type": "code",
   "execution_count": 5,
   "id": "15c83c9e-baac-4cd6-940c-c38e8dbd396f",
   "metadata": {},
   "outputs": [
    {
     "name": "stdout",
     "output_type": "stream",
     "text": [
      "RegisterMap {\n",
      "  CTRL = Register(AP_START=0, AP_DONE=0, AP_IDLE=1, AP_READY=0, RESERVED_1=0, AUTO_RESTART=0, RESERVED_2=0, INTERRUPT=0, RESERVED_3=0),\n",
      "  GIER = Register(Enable=0, RESERVED=0),\n",
      "  IP_IER = Register(CHAN0_INT_EN=0, CHAN1_INT_EN=0, RESERVED_0=0),\n",
      "  IP_ISR = Register(CHAN0_INT_ST=0, CHAN1_INT_ST=0, RESERVED_0=0),\n",
      "  Ma_1 = Register(Ma=write-only),\n",
      "  Ma_2 = Register(Ma=write-only),\n",
      "  Mb_1 = Register(Mb=write-only),\n",
      "  Mb_2 = Register(Mb=write-only),\n",
      "  Mc_1 = Register(Mc=write-only),\n",
      "  Mc_2 = Register(Mc=write-only)\n",
      "}\n"
     ]
    }
   ],
   "source": [
    "kr = ol.cmpx_mat_product_0\n",
    "print(kr.register_map)"
   ]
  },
  {
   "cell_type": "code",
   "execution_count": 5,
   "id": "02650afc-509c-4eec-809c-94613d2df26c",
   "metadata": {},
   "outputs": [],
   "source": [
    "# Define matrix dimensions\n",
    "DIM = 48\n",
    "\n",
    "# Allocate contiguous memory for the matrices\n",
    "# np.complex64 gives 32-bit float for both real and imaginary parts.\n",
    "Ma = allocate(shape=(DIM, DIM), dtype=np.complex64)\n",
    "Mb = allocate(shape=(DIM, DIM), dtype=np.complex64)\n",
    "Mc = allocate(shape=(DIM, DIM), dtype=np.complex64)\n",
    "\n",
    "# Initialize Ma and Mb with random complex numbers\n",
    "Ma[:] = np.random.rand(DIM, DIM).astype(np.float32) + 1j * np.random.rand(DIM, DIM).astype(np.float32)\n",
    "Mb[:] = np.random.rand(DIM, DIM).astype(np.float32) + 1j * np.random.rand(DIM, DIM).astype(np.float32)"
   ]
  },
  {
   "cell_type": "code",
   "execution_count": 6,
   "id": "7f516617-020d-430f-9b4d-4630aa8939e4",
   "metadata": {},
   "outputs": [],
   "source": [
    "# Write the physical addresses of the matrices to the registers.\n",
    "# Depending on the synthesis, the register map names might be \"Ma_1\", \"Mb_1\", \"Mc_1\"\n",
    "kr.write(kr.register_map.Ma_1.address, Ma.physical_address)\n",
    "kr.write(kr.register_map.Mb_1.address, Mb.physical_address)\n",
    "kr.write(kr.register_map.Mc_1.address, Mc.physical_address)"
   ]
  },
  {
   "cell_type": "code",
   "execution_count": 7,
   "id": "d64edd8e-4488-49aa-a382-90e16dd170f5",
   "metadata": {},
   "outputs": [],
   "source": [
    "# Start the kernel by setting the AP_START bit in the control register\n",
    "kr.register_map.CTRL.AP_START = 1\n",
    "\n",
    "# Wait for the kernel to complete (here a simple sleep is used; for robust operation poll AP_DONE)\n",
    "time.sleep(1)"
   ]
  },
  {
   "cell_type": "code",
   "execution_count": 8,
   "id": "1c32cdd9-99ba-4f5f-95d6-346d3876e5e3",
   "metadata": {},
   "outputs": [
    {
     "name": "stdout",
     "output_type": "stream",
     "text": [
      "Hardware result (first 3 rows):\n",
      "[[ 1.9975162 +23.91357j  -0.06169912+23.021677j  0.5170438 +24.86861j\n",
      "  -1.4208806 +23.116474j  0.43042678+25.184177j  1.4733404 +25.134941j\n",
      "   0.60335016+23.2114j   -3.4570482 +23.531248j  1.7270083 +22.387402j\n",
      "   0.89515996+22.63974j  -1.2681922 +24.41797j   0.71289855+25.6054j\n",
      "  -2.1101565 +24.686975j  0.10804204+22.85642j  -3.345058  +22.976242j\n",
      "  -1.0471436 +24.973436j  1.620372  +24.368078j -3.9838064 +21.357918j\n",
      "  -1.3961053 +26.749235j -1.785009  +22.6533j   -3.5124109 +26.73857j\n",
      "  -1.4901825 +20.145832j  0.7135203 +22.95981j  -0.755782  +23.399311j\n",
      "  -2.5616448 +23.356674j  0.8516019 +23.405968j  0.23703276+23.180199j\n",
      "  -2.9315648 +26.620232j -0.7656517 +27.414686j  1.7605522 +26.242971j\n",
      "   0.6924521 +24.766558j -0.60665154+25.886286j -0.44404155+23.36217j\n",
      "  -1.1087257 +24.37495j  -3.6230104 +24.626722j -1.4417003 +24.423834j\n",
      "  -5.2687964 +25.3817j   -1.800384  +22.697025j -4.1906896 +24.00359j\n",
      "   1.585137  +25.825829j  0.11902107+26.512812j -1.541877  +23.787455j\n",
      "  -0.6105912 +25.256989j -1.1229036 +22.94926j  -0.8217983 +24.440687j\n",
      "  -3.1325033 +23.778833j -1.1990311 +25.473341j  1.7608564 +25.120682j]\n",
      " [ 1.8559659 +26.676542j  0.9318043 +23.696148j -1.014291  +27.599651j\n",
      "  -0.95091194+25.493721j  0.36438107+28.30898j  -0.16035455+26.207815j\n",
      "   1.1208721 +24.380167j -4.902896  +26.272152j  2.9202871 +24.202833j\n",
      "   0.89425194+25.0781j   -1.2026932 +25.298822j -0.12086678+26.43j\n",
      "  -3.1692345 +26.276659j -0.70184416+25.329796j -3.1201248 +25.14283j\n",
      "  -2.5045836 +28.598677j  1.3294098 +27.343967j -1.1693193 +25.024471j\n",
      "  -0.25938636+28.65065j  -2.2537508 +24.83637j  -4.8085823 +30.085274j\n",
      "  -1.747967  +23.152462j  0.71666527+27.291752j  0.21685791+25.163883j\n",
      "  -3.8855753 +25.699438j -2.0405436 +27.398901j -1.2328426 +25.46601j\n",
      "  -3.4535165 +28.56198j  -2.7418318 +30.630077j  1.5401437 +29.430746j\n",
      "   2.1911135 +25.306055j -0.947748  +27.285616j -0.5004126 +24.405216j\n",
      "  -1.7936746 +26.256763j -2.8736153 +26.53801j  -1.7076716 +26.8586j\n",
      "  -5.9530635 +27.639946j -1.9288673 +25.494993j -4.7795963 +27.269743j\n",
      "   0.5337758 +29.465294j -1.3196436 +27.867716j -2.7425776 +26.839142j\n",
      "  -1.5719659 +28.150309j -0.673204  +26.665657j -1.4945152 +27.492575j\n",
      "  -3.7951117 +26.585983j -2.9358096 +26.989878j -1.3308408 +27.414297j]\n",
      " [ 1.8908069 +21.905031j  2.4825294 +20.002886j -0.48253536+23.176682j\n",
      "   0.97533524+22.422256j  0.02712131+25.689205j  1.2649419 +22.649048j\n",
      "   2.3820524 +23.062647j -2.8320312 +22.24516j   4.352111  +21.347466j\n",
      "   0.66240096+22.620632j  0.95874   +22.168211j -0.13786118+22.682964j\n",
      "  -0.4837346 +21.519608j -0.2119151 +21.420183j -0.4533572 +22.075737j\n",
      "   0.4948423 +24.820679j  0.40717584+22.177444j -0.19277546+21.864887j\n",
      "   0.7332484 +26.360613j -0.19807994+19.964233j -1.4511896 +23.64173j\n",
      "   1.0191098 +19.002657j  0.58864415+22.906288j  1.6239706 +20.070923j\n",
      "  -1.1013519 +23.315796j -0.41345194+22.938831j -0.13512668+21.93092j\n",
      "  -0.58025646+23.74235j  -0.5315668 +24.660664j  2.5441823 +23.379549j\n",
      "   0.97049963+21.99798j  -0.6268669 +24.61702j   0.8701272 +20.589209j\n",
      "   0.11067927+21.976677j -2.0655417 +22.551708j -0.75735646+22.66305j\n",
      "  -3.2869046 +24.058662j  0.37876   +21.022194j -2.2009408 +23.02342j\n",
      "   0.48860258+25.475473j -0.31878853+24.396107j  0.0377693 +23.113718j\n",
      "   1.306388  +23.742367j -0.7631123 +20.366802j  0.6213261 +23.19287j\n",
      "  -0.8277909 +21.008318j -1.1162778 +23.082272j  0.5193962 +24.039997j]]\n"
     ]
    }
   ],
   "source": [
    "# Print the hardware result\n",
    "print(\"Hardware result (first 3 rows):\")\n",
    "print(Mc[:3, :])"
   ]
  },
  {
   "cell_type": "code",
   "execution_count": 9,
   "id": "c98a765d-bca8-413f-a33f-4b2ff684c919",
   "metadata": {},
   "outputs": [
    {
     "name": "stdout",
     "output_type": "stream",
     "text": [
      "Software reference result (first 3 rows):\n",
      "[[ 1.9975162 +23.913565j -0.06169902+23.021673j  0.5170439 +24.868612j\n",
      "  -1.4208815 +23.116468j  0.43042707+25.18418j   1.4733405 +25.134943j\n",
      "   0.6033504 +23.211397j -3.457048  +23.531248j  1.7270098 +22.387398j\n",
      "   0.8951645 +22.639742j -1.2681913 +24.417976j  0.7128973 +25.605404j\n",
      "  -2.1101573 +24.686968j  0.10804202+22.856422j -3.3450582 +22.976252j\n",
      "  -1.0471436 +24.973434j  1.6203725 +24.36808j  -3.9838078 +21.357918j\n",
      "  -1.3961048 +26.749237j -1.7850095 +22.6533j   -3.512412  +26.738567j\n",
      "  -1.4901838 +20.145836j  0.7135172 +22.959814j -0.7557802 +23.399307j\n",
      "  -2.5616446 +23.356674j  0.8516013 +23.40597j   0.23703265+23.180199j\n",
      "  -2.9315643 +26.620235j -0.7656517 +27.41468j   1.7605518 +26.24297j\n",
      "   0.69245213+24.766544j -0.6066514 +25.886286j -0.4440403 +23.362171j\n",
      "  -1.1087265 +24.374947j -3.6230097 +24.62672j  -1.4417019 +24.423828j\n",
      "  -5.268797  +25.381697j -1.8003831 +22.697023j -4.1906905 +24.003592j\n",
      "   1.5851365 +25.82583j   0.119021  +26.512815j -1.5418762 +23.787445j\n",
      "  -0.6105912 +25.25699j  -1.1229033 +22.949263j -0.8217974 +24.440695j\n",
      "  -3.1325035 +23.778828j -1.1990309 +25.473345j  1.7608585 +25.120686j]\n",
      " [ 1.8559656 +26.676535j  0.93180454+23.69615j  -1.0142906 +27.599646j\n",
      "  -0.9509116 +25.49372j   0.36438146+28.308973j -0.16035351+26.207811j\n",
      "   1.1208714 +24.38017j  -4.9028964 +26.272163j  2.920288  +24.202831j\n",
      "   0.89425087+25.0781j   -1.2026901 +25.298822j -0.12086868+26.43j\n",
      "  -3.1692343 +26.276659j -0.7018444 +25.329803j -3.1201246 +25.142832j\n",
      "  -2.5045838 +28.598673j  1.3294096 +27.343977j -1.1693192 +25.024471j\n",
      "  -0.25938666+28.650652j -2.253751  +24.836372j -4.8085814 +30.085281j\n",
      "  -1.7479725 +23.152468j  0.7166672 +27.291752j  0.216856  +25.163887j\n",
      "  -3.8855755 +25.699438j -2.040543  +27.398909j -1.2328427 +25.466011j\n",
      "  -3.4535167 +28.561977j -2.7418327 +30.63008j   1.5401454 +29.430754j\n",
      "   2.1911137 +25.306053j -0.94774765+27.28562j  -0.500412  +24.405216j\n",
      "  -1.7936764 +26.256765j -2.8736153 +26.538006j -1.7076683 +26.858599j\n",
      "  -5.9530625 +27.639946j -1.9288676 +25.494987j -4.779597  +27.269743j\n",
      "   0.53377575+29.4653j   -1.3196435 +27.86771j  -2.7425778 +26.83914j\n",
      "  -1.571966  +28.15031j  -0.6732041 +26.66565j  -1.4945135 +27.492577j\n",
      "  -3.7951107 +26.585981j -2.935811  +26.98988j  -1.330843  +27.414297j]\n",
      " [ 1.8908072 +21.905031j  2.4825296 +20.00289j  -0.4825352 +23.176668j\n",
      "   0.9753346 +22.422262j  0.02712134+25.689207j  1.2649415 +22.649046j\n",
      "   2.3820524 +23.062634j -2.8320315 +22.245165j  4.3521085 +21.34747j\n",
      "   0.6623993 +22.620628j  0.9587374 +22.168207j -0.1378603 +22.68296j\n",
      "  -0.48373458+21.5196j   -0.21191476+21.420185j -0.45335722+22.075745j\n",
      "   0.49484217+24.820675j  0.40717584+22.177444j -0.19277552+21.864883j\n",
      "   0.7332487 +26.360611j -0.19807988+19.964228j -1.451191  +23.64173j\n",
      "   1.0191078 +19.002659j  0.58864594+22.906288j  1.6239719 +20.070919j\n",
      "  -1.1013517 +23.315805j -0.41345263+22.938831j -0.13512704+21.930923j\n",
      "  -0.58025664+23.742357j -0.53156704+24.66067j   2.5441825 +23.379547j\n",
      "   0.9704995 +21.997978j -0.62686664+24.617023j  0.87013054+20.589209j\n",
      "   0.11067963+21.976677j -2.0655403 +22.551708j -0.75735664+22.663048j\n",
      "  -3.2869048 +24.058662j  0.37876007+21.02219j  -2.2009416 +23.023415j\n",
      "   0.4886026 +25.475473j -0.31878835+24.396109j  0.03776925+23.113718j\n",
      "   1.3063885 +23.74237j  -0.7631124 +20.3668j    0.6213255 +23.19286j\n",
      "  -0.8277931 +21.008318j -1.1162758 +23.082273j  0.5193939 +24.039999j]]\n"
     ]
    }
   ],
   "source": [
    "# Compute a software reference for matrix multiplication\n",
    "Mc_ref = np.matmul(Ma, Mb)\n",
    "\n",
    "print(\"Software reference result (first 3 rows):\")\n",
    "print(Mc_ref[:3, :])"
   ]
  },
  {
   "cell_type": "code",
   "execution_count": 10,
   "id": "b14ec35b-73b1-49c9-ae7e-99272ceaccfb",
   "metadata": {},
   "outputs": [
    {
     "name": "stdout",
     "output_type": "stream",
     "text": [
      "Frobenius norm of difference: 0.00019124227\n"
     ]
    }
   ],
   "source": [
    "# Optionally compare the two (for example, by computing the error)\n",
    "error = np.linalg.norm(Mc - Mc_ref)\n",
    "print(\"Frobenius norm of difference:\", error)"
   ]
  },
  {
   "cell_type": "code",
   "execution_count": 11,
   "id": "6826d5b7-97e3-405a-99c3-3426ce13a9d5",
   "metadata": {},
   "outputs": [],
   "source": [
    "# When finished, free the allocated buffers (if desired)\n",
    "Ma.freebuffer()\n",
    "Mb.freebuffer()\n",
    "Mc.freebuffer()"
   ]
  },
  {
   "cell_type": "code",
   "execution_count": null,
   "id": "235cc852-cefa-440e-8c30-0b6b96363eeb",
   "metadata": {},
   "outputs": [],
   "source": []
  }
 ],
 "metadata": {
  "kernelspec": {
   "display_name": "Python 3 (ipykernel)",
   "language": "python",
   "name": "python3"
  },
  "language_info": {
   "codemirror_mode": {
    "name": "ipython",
    "version": 3
   },
   "file_extension": ".py",
   "mimetype": "text/x-python",
   "name": "python",
   "nbconvert_exporter": "python",
   "pygments_lexer": "ipython3",
   "version": "3.10.12"
  }
 },
 "nbformat": 4,
 "nbformat_minor": 5
}
