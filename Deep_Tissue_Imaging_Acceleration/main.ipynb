{
 "cells": [
  {
   "cell_type": "code",
   "execution_count": null,
   "id": "545014b9",
   "metadata": {},
   "outputs": [],
   "source": [
    "import sys, os, time\n",
    "import numpy as np\n",
    "sys.path.append('dti_reference_implementation')\n",
    "\n",
    "from deep_tissue_imaging.elementos.lasers import fuente_microscopia_1 as laser, campo_tem00\n",
    "from deep_tissue_imaging.elementos.tejidos import cerebro_emb_pez_cebra as tejido\n",
    "from deep_tissue_imaging.elementos import domain as Domain\n",
    "from deep_tissue_imaging.elementos.plotting import plot_field_intensity\n",
    "from benchmark.phase_mask_manager import PhaseMaskManager\n",
    "from pynq import Overlay, allocate\n"
   ]
  },
  {
   "cell_type": "code",
   "execution_count": null,
   "id": "a4521ad9",
   "metadata": {},
   "outputs": [],
   "source": [
    "# Domain parameters\n",
    "Lz = np.float32(361e-6)\n",
    "Nz = 361\n",
    "dz = np.float32(Lz / Nz)\n",
    "\n",
    "Lx, Ly = np.float32(45e-6), np.float32(45e-6)\n",
    "Nx, Ny = 256, 256\n",
    "dx = np.float32(Lx / Nx)\n",
    "dy = np.float32(Ly / Ny)\n",
    "\n",
    "x = np.linspace(-Lx/2, Lx/2, Nx, dtype=np.float32)\n",
    "y = np.linspace(-Ly/2, Ly/2, Ny, dtype=np.float32)\n",
    "X, Y = np.meshgrid(x, y)\n",
    "\n",
    "k0 = np.float32(2*np.pi / laser.wavelength)\n",
    "k = np.float32(k0 * tejido.n_0)\n",
    "sigma_phi = np.float32(k * tejido.Dn * tejido.l_s)\n",
    "sigma_x = np.float32(5e-6)\n",
    "\n",
    "domain = Domain.Domain(X, Y, Nx, Ny, Nz, dx, dy, dz, np.float32(1e-12), k0, k, sigma_phi, sigma_x)\n"
   ]
  },
  {
   "cell_type": "code",
   "execution_count": null,
   "id": "803995c0",
   "metadata": {},
   "outputs": [],
   "source": [
    "# Create TEM00 initial beam profile\n",
    "phi = campo_tem00(X, Y, laser.w0, laser.I_peak)\n",
    "\n",
    "# Phase mask manager using stored masks\n",
    "mask_manager = PhaseMaskManager(save_dir='./dti_reference_implementation/phase_masks')\n",
    "mask_manager.initialize_masks(phi.shape, X, Y, domain.sigma_phi, domain.sigma_x)\n"
   ]
  },
  {
   "cell_type": "code",
   "execution_count": null,
   "id": "385fa1de",
   "metadata": {},
   "outputs": [],
   "source": [
    "# Load overlay and define helper to run accelerator\n",
    "overlay = Overlay('dti_bpm.bit')  # assume overlay file exists\n",
    "bpm_ip = overlay.bpm_accel_0  # accelerator IP block\n",
    "\n",
    "# Helper function to run propagation for a number of steps\n",
    "def run_propagation(field, steps):\n",
    "    buf_in = allocate(shape=field.shape, dtype=np.complex64)\n",
    "    buf_out = allocate(shape=field.shape, dtype=np.complex64)\n",
    "    buf_in[:] = field\n",
    "    bpm_ip.write(bpm_ip.register_map.input_r.address, buf_in.physical_address)\n",
    "    bpm_ip.write(bpm_ip.register_map.output_r.address, buf_out.physical_address)\n",
    "    bpm_ip.write(bpm_ip.register_map.nsteps.address, np.uint32(steps))\n",
    "    bpm_ip.register_map.CTRL.AP_START = 1\n",
    "    while bpm_ip.register_map.CTRL.AP_DONE == 0:\n",
    "        pass\n",
    "    result = np.array(buf_out)\n",
    "    buf_in.freebuffer(); buf_out.freebuffer()\n",
    "    return result\n",
    "\n",
    "# Execute 3 segments of 120 steps each with phase masks\n",
    "t0 = time.time()\n",
    "for idx in range(1, 4):\n",
    "    phi = run_propagation(phi, 120)\n",
    "    phi = mask_manager.apply_mask(phi, idx)\n",
    "t_exec = time.time() - t0\n",
    "print(f'Execution time: {t_exec:.6f} seconds')\n"
   ]
  },
  {
   "cell_type": "code",
   "execution_count": null,
   "id": "011ea968",
   "metadata": {},
   "outputs": [],
   "source": [
    "# Save and plot final field\n",
    "np.save('final_field.npy', phi)\n",
    "plot_field_intensity(phi, X, Y)\n"
   ]
  }
 ],
 "metadata": {
  "kernelspec": {
   "display_name": "Python 3 (ipykernel)",
   "language": "python",
   "name": "python3"
  },
  "language_info": {
   "name": "python",
   "version": "3.10"
  }
 },
 "nbformat": 4,
 "nbformat_minor": 5
}