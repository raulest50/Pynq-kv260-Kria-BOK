{
 "cells": [
  {
   "cell_type": "code",
   "execution_count": 17,
   "id": "10238fca-d1f8-4278-981a-913fe539caff",
   "metadata": {},
   "outputs": [],
   "source": [
    "import numpy as np\n",
    "from dti_elements import domain as Domain\n",
    "from dti_elements.lasers import fuente_microscopia_1 as laser\n",
    "from dti_elements.tejidos import cerebro_emb_pez_cebra as tejido"
   ]
  },
  {
   "cell_type": "code",
   "execution_count": 18,
   "id": "7390d443-099e-4d04-a7a0-33969f04ab98",
   "metadata": {},
   "outputs": [],
   "source": [
    "# Parametros de dominio\n",
    "\n",
    "Lz = np.float32(361e-6) # 200um\n",
    "Nz = 361\n",
    "dz = np.float32(Lz / Nz) # 1um\n",
    "\n",
    "Lx, Ly = np.float32(45e-6), np.float32(45e-6) # 45um x 45um\n",
    "Nx, Ny = 256, 256\n",
    "dx = np.float32(Lx / Nx) # 0.35um\n",
    "dy = np.float32(Ly / Ny) # 0.35um\n",
    "\n",
    "x = np.linspace(-Lx/2, Lx/2, Nx, dtype=np.float32)\n",
    "y = np.linspace(-Ly/2, Ly/2, Ny, dtype=np.float32)\n",
    "X, Y = np.meshgrid(x, y)\n",
    "\n",
    "k0 = np.float32(2*np.pi / laser.wavelength)\n",
    "k = np.float32(k0 * tejido.n_0)\n",
    "sigma_phi = np.float32(k * tejido.Dn * tejido.l_s)\n",
    "# Typical value for brain tissue (5 μm)\n",
    "sigma_x = np.float32(5e-6)\n",
    "\n",
    "domain = Domain.Domain(X, Y, Nx, Ny, Nz, dx, dy, dz, np.float32(1e-12), k0, k, sigma_phi, sigma_x)\n"
   ]
  },
  {
   "cell_type": "code",
   "execution_count": null,
   "id": "94c2188d-48e3-49a2-a049-77a18520c9bd",
   "metadata": {},
   "outputs": [],
   "source": []
  }
 ],
 "metadata": {
  "kernelspec": {
   "display_name": "Python 3 (ipykernel)",
   "language": "python",
   "name": "python3"
  },
  "language_info": {
   "codemirror_mode": {
    "name": "ipython",
    "version": 3
   },
   "file_extension": ".py",
   "mimetype": "text/x-python",
   "name": "python",
   "nbconvert_exporter": "python",
   "pygments_lexer": "ipython3",
   "version": "3.10.12"
  }
 },
 "nbformat": 4,
 "nbformat_minor": 5
}
