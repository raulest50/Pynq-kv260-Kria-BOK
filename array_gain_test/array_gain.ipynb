{
 "cells": [
  {
   "cell_type": "code",
   "execution_count": null,
   "id": "b4d64d87-e480-4318-9f90-6858c7e9f64d",
   "metadata": {},
   "outputs": [],
   "source": [
    "from pynq import Overlay, allocate\n",
    "import numpy as np\n",
    "import time\n",
    "\n",
    "# Load the overlay (replace with the correct path if needed)\n",
    "ol = Overlay(\"sistema.bit\")"
   ]
  },
  {
   "cell_type": "code",
   "execution_count": null,
   "id": "d8788314-a033-429f-98e2-316ce58a7ade",
   "metadata": {},
   "outputs": [],
   "source": [
    "# Define the array size: 2^13 = 8192 elements\n",
    "size = 8192\n",
    "\n",
    "# Allocate contiguous memory for input and output buffers\n",
    "input_buffer = allocate(shape=(size,), dtype=np.float32)\n",
    "output_buffer = allocate(shape=(size,), dtype=np.float32)\n",
    "\n",
    "# Initialize input data (for example, with random numbers)\n",
    "input_buffer[:] = np.random.rand(size).astype(np.float32)\n",
    "\n",
    "\n",
    "gain = np.float32(2.0)  # Set your gain value"
   ]
  },
  {
   "cell_type": "code",
   "execution_count": null,
   "id": "d9a138ee-c5cc-4085-9166-afc557807400",
   "metadata": {},
   "outputs": [],
   "source": [
    "# Obtener la instancia del IP (asegúrate de que el nombre coincida con el del diseño)\n",
    "kr = ol.array_gain_0\n",
    "\n",
    "# Ver el mapa de registros (opcional)\n",
    "print(\"Mapa de Registros:\")\n",
    "print(kr.register_map)"
   ]
  },
  {
   "cell_type": "code",
   "execution_count": null,
   "id": "234f3f36-1587-4c6b-bd89-0f9d31786673",
   "metadata": {},
   "outputs": [],
   "source": [
    "# Escribir las direcciones físicas y el parámetro a los registros utilizando el mapa:\n",
    "kr.write(kr.register_map.input_r_1.address, input_buffer.physical_address)\n",
    "#kr.write(kr.register_map.input_r_2.address, 0)  # Suponemos que la dirección cabe en 32 bits\n",
    "\n",
    "kr.write(kr.register_map.output_r_1.address, output_buffer.physical_address)\n",
    "#kr.write(kr.register_map.output_r_2.address, 0)\n",
    "\n",
    "# Convert the float 'gain' into its 32-bit integer representation and cast to int:\n",
    "gain_int = int(np.frombuffer(gain.tobytes(), dtype=np.uint32)[0])\n",
    "kr.write(kr.register_map.gain.address, gain_int)\n",
    "\n",
    "# Start the kernel by writing '1' to the control register at offset 0x00\n",
    "kr.register_map.CTRL.AP_START = 1\n",
    "time.sleep(1)\n",
    "\n"
   ]
  },
  {
   "cell_type": "code",
   "execution_count": null,
   "id": "c101785f-dea1-41b0-ada3-ae403b6e5ac8",
   "metadata": {},
   "outputs": [],
   "source": [
    "# Now, output_buffer should contain the results (each element multiplied by 'gain')\n",
    "print(\"First 10 input values  :\", input_buffer[:10])\n",
    "print(\"First 10 output values :\", output_buffer[:10])\n",
    "print(\"Gain used              :\", gain)"
   ]
  },
  {
   "cell_type": "code",
   "execution_count": null,
   "id": "b4f93d82-e3f1-4354-b69a-51e6e1911c3d",
   "metadata": {},
   "outputs": [],
   "source": [
    "# When finished, free the allocated buffers (if desired)\n",
    "input_buffer.freebuffer()\n",
    "output_buffer.freebuffer()"
   ]
  },
  {
   "cell_type": "code",
   "execution_count": null,
   "id": "1ac6f7fe-4cf6-4b1d-aa1e-ba050063f228",
   "metadata": {},
   "outputs": [],
   "source": []
  }
 ],
 "metadata": {
  "kernelspec": {
   "display_name": "Python 3 (ipykernel)",
   "language": "python",
   "name": "python3"
  },
  "language_info": {
   "codemirror_mode": {
    "name": "ipython",
    "version": 3
   },
   "file_extension": ".py",
   "mimetype": "text/x-python",
   "name": "python",
   "nbconvert_exporter": "python",
   "pygments_lexer": "ipython3",
   "version": "3.10.12"
  }
 },
 "nbformat": 4,
 "nbformat_minor": 5
}
