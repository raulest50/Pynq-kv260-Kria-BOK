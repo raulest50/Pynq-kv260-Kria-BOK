{
 "cells": [
  {
   "cell_type": "code",
   "execution_count": 76,
   "id": "4d6d2bf5-9876-4a3a-b36e-4a724d8920f9",
   "metadata": {},
   "outputs": [],
   "source": [
    "from pynq import Overlay, allocate, Interrupt\n",
    "import numpy as np\n",
    "import time\n",
    "import asyncio"
   ]
  },
  {
   "cell_type": "code",
   "execution_count": 77,
   "id": "c475651e-7fcd-4cfc-ad2c-fb97e1b55d81",
   "metadata": {},
   "outputs": [
    {
     "data": {
      "text/plain": [
       "'/root/jupyter_notebooks/array_gain_test'"
      ]
     },
     "execution_count": 77,
     "metadata": {},
     "output_type": "execute_result"
    }
   ],
   "source": [
    "%pwd"
   ]
  },
  {
   "cell_type": "code",
   "execution_count": 78,
   "id": "2116aef1-a133-4b09-b3eb-4bf6e72c4322",
   "metadata": {},
   "outputs": [],
   "source": [
    "# Cargar el overlay\n",
    "ol = Overlay(\"sistema.bit\")"
   ]
  },
  {
   "cell_type": "code",
   "execution_count": 79,
   "id": "6873837f-bcc9-4d9a-b427-5ebb30840ed4",
   "metadata": {},
   "outputs": [
    {
     "name": "stdout",
     "output_type": "stream",
     "text": [
      "Help on Overlay in module pynq.overlay:\n",
      "\n",
      "<pynq.overlay.Overlay object>\n",
      "    Default documentation for overlay sistema.bit. The following\n",
      "    attributes are available on this overlay:\n",
      "    \n",
      "    IP Blocks\n",
      "    ----------\n",
      "    array_gain_0         : pynq.overlay.DefaultIP\n",
      "    axi_intc_0           : pynq.overlay.DefaultIP\n",
      "    zynq_ultra_ps_e_0    : pynq.overlay.DefaultIP\n",
      "    \n",
      "    Hierarchies\n",
      "    -----------\n",
      "    None\n",
      "    \n",
      "    Interrupts\n",
      "    ----------\n",
      "    None\n",
      "    \n",
      "    GPIO Outputs\n",
      "    ------------\n",
      "    None\n",
      "    \n",
      "    Memories\n",
      "    ------------\n",
      "    PSDDR                : Memory\n",
      "\n"
     ]
    }
   ],
   "source": [
    "help(ol)"
   ]
  },
  {
   "cell_type": "code",
   "execution_count": 80,
   "id": "b968bf62-a4d3-46e8-bc3a-ba3d8d7fd44a",
   "metadata": {},
   "outputs": [],
   "source": [
    "# Definir el tamaño: 8192 elementos\n",
    "size = 8192\n",
    "\n",
    "# Asignar buffers contiguos para entrada y salida\n",
    "input_buffer = allocate(shape=(size,), dtype=np.float32)\n",
    "output_buffer = allocate(shape=(size,), dtype=np.float32)"
   ]
  },
  {
   "cell_type": "code",
   "execution_count": 81,
   "id": "5dc2a2a1-abd2-41ea-a4ac-12fcaea1fb30",
   "metadata": {},
   "outputs": [],
   "source": [
    "# Inicializar datos de entrada y la ganancia\n",
    "input_buffer[:] = np.random.rand(size).astype(np.float32)\n",
    "gain = np.float32(2.0)"
   ]
  },
  {
   "cell_type": "code",
   "execution_count": 82,
   "id": "16e3ca57-30f3-4bc4-81a8-1a30a6991660",
   "metadata": {},
   "outputs": [
    {
     "name": "stdout",
     "output_type": "stream",
     "text": [
      "Mapa de Registros:\n",
      "RegisterMap {\n",
      "  CTRL = Register(AP_START=0, AP_DONE=0, AP_IDLE=1, AP_READY=0, RESERVED_1=0, AUTO_RESTART=0, RESERVED_2=0, INTERRUPT=0, RESERVED_3=0),\n",
      "  GIER = Register(Enable=0, RESERVED=0),\n",
      "  IP_IER = Register(CHAN0_INT_EN=0, CHAN1_INT_EN=0, RESERVED_0=0),\n",
      "  IP_ISR = Register(CHAN0_INT_ST=0, CHAN1_INT_ST=0, RESERVED_0=0),\n",
      "  input_r_1 = Register(input_r=write-only),\n",
      "  input_r_2 = Register(input_r=write-only),\n",
      "  output_r_1 = Register(output_r=write-only),\n",
      "  output_r_2 = Register(output_r=write-only),\n",
      "  gain = Register(gain=write-only)\n",
      "}\n"
     ]
    }
   ],
   "source": [
    "# Obtener la instancia del IP\n",
    "kr = ol.array_gain_0\n",
    "\n",
    "# Mostrar el mapa de registros (opcional)\n",
    "print(\"Mapa de Registros:\")\n",
    "print(kr.register_map)"
   ]
  },
  {
   "cell_type": "code",
   "execution_count": 83,
   "id": "cb75d538-f599-46e4-8125-f4ecea52927d",
   "metadata": {},
   "outputs": [],
   "source": [
    "# Escribir direcciones físicas y el parámetro\n",
    "kr.write(kr.register_map.input_r_1.address, input_buffer.physical_address)\n",
    "kr.write(kr.register_map.output_r_1.address, output_buffer.physical_address)\n",
    "gain_int = int(np.frombuffer(gain.tobytes(), dtype=np.uint32)[0])\n",
    "kr.write(kr.register_map.gain.address, gain_int)"
   ]
  },
  {
   "cell_type": "code",
   "execution_count": 84,
   "id": "b82fa106-7f38-40f7-af6c-34b4d8bffd19",
   "metadata": {},
   "outputs": [
    {
     "data": {
      "text/plain": [
       "{'interrupt': {'controller': 'axi_intc_0',\n",
       "  'index': 0,\n",
       "  'fullpath': 'array_gain_0/interrupt'}}"
      ]
     },
     "execution_count": 84,
     "metadata": {},
     "output_type": "execute_result"
    }
   ],
   "source": [
    "kr._interrupts"
   ]
  },
  {
   "cell_type": "code",
   "execution_count": 85,
   "id": "f0582dc6-50a2-45c1-9677-2e35852bd46a",
   "metadata": {},
   "outputs": [
    {
     "data": {
      "text/plain": [
       "<pynq.interrupt.Interrupt at 0xffff77fc1210>"
      ]
     },
     "execution_count": 85,
     "metadata": {},
     "output_type": "execute_result"
    }
   ],
   "source": [
    "kr.interrupt"
   ]
  },
  {
   "cell_type": "code",
   "execution_count": 86,
   "id": "5001bbd5-a64b-460d-a067-5254ce59db18",
   "metadata": {},
   "outputs": [
    {
     "data": {
      "application/json": {
       "array_gain_0/interrupt": {
        "controller": "axi_intc_0",
        "fullpath": "array_gain_0/interrupt",
        "index": 0
       },
       "axi_intc_0/intr": {
        "controller": "axi_intc_0",
        "fullpath": "axi_intc_0/intr",
        "index": 0
       }
      },
      "text/plain": [
       "{'array_gain_0/interrupt': {'controller': 'axi_intc_0',\n",
       "  'index': 0,\n",
       "  'fullpath': 'array_gain_0/interrupt'},\n",
       " 'axi_intc_0/intr': {'controller': 'axi_intc_0',\n",
       "  'index': 0,\n",
       "  'fullpath': 'axi_intc_0/intr'}}"
      ]
     },
     "execution_count": 86,
     "metadata": {
      "application/json": {
       "expanded": false,
       "root": "interrupt_pins"
      }
     },
     "output_type": "execute_result"
    }
   ],
   "source": [
    "ol.interrupt_pins"
   ]
  },
  {
   "cell_type": "code",
   "execution_count": 87,
   "id": "166f59dc-8b8c-4e49-8e5d-2493b52dc2a8",
   "metadata": {},
   "outputs": [],
   "source": [
    "# Configurar la interrupción.\n",
    "# Suponiendo que en el diseño la salida de interrupción del IP está conectada al canal 0\n",
    "irq = Interrupt(\"axi_intc_0/intr\")\n",
    "\n",
    "\n",
    "# Define an asynchronous coroutine to wait for the interrupt\n",
    "async def wait_for_interrupt():\n",
    "    await irq.wait()  # This will block until the interrupt is triggered\n",
    "    print(\"Interrupt received! Kernel computation completed.\")\n",
    "    # Optionally, print results or process buffers\n",
    "    print(\"First 10 input values :\", input_buffer[:10])\n",
    "    print(\"First 10 output values:\", output_buffer[:10])\n",
    "    print(\"Gain used              :\", gain)\n",
    "    irq.clear()  # Clear the interrupt flag\n"
   ]
  },
  {
   "cell_type": "code",
   "execution_count": null,
   "id": "a02654af-298d-4459-9eaf-acf036f6811e",
   "metadata": {},
   "outputs": [],
   "source": [
    "# Schedule the asynchronous interrupt wait\n",
    "asyncio.get_event_loop().create_task(wait_for_interrupt())\n",
    "kr.register_map.CTRL.AP_START = 1\n",
    "await wait_for_interrupt()"
   ]
  },
  {
   "cell_type": "code",
   "execution_count": 59,
   "id": "7f8d2267-a0cb-4540-aef1-bc647c4572b6",
   "metadata": {},
   "outputs": [],
   "source": [
    "from pynq import PL # se supone que hace clear del PL\n",
    "PL.reset()"
   ]
  },
  {
   "cell_type": "code",
   "execution_count": 60,
   "id": "4f9fc3f9-b28c-4a28-95be-f2aef7b668d7",
   "metadata": {},
   "outputs": [],
   "source": [
    "from pynq.pl import PL # aun no he probado si son equivalentes o no.\n",
    "PL.reset()"
   ]
  }
 ],
 "metadata": {
  "kernelspec": {
   "display_name": "Python 3 (ipykernel)",
   "language": "python",
   "name": "python3"
  },
  "language_info": {
   "codemirror_mode": {
    "name": "ipython",
    "version": 3
   },
   "file_extension": ".py",
   "mimetype": "text/x-python",
   "name": "python",
   "nbconvert_exporter": "python",
   "pygments_lexer": "ipython3",
   "version": "3.10.12"
  }
 },
 "nbformat": 4,
 "nbformat_minor": 5
}
