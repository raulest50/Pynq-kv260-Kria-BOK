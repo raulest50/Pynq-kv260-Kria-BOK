{
 "cells": [
  {
   "cell_type": "code",
   "execution_count": 2,
   "id": "6fff6fe4-92a6-4552-8981-b071b76f24c1",
   "metadata": {},
   "outputs": [],
   "source": [
    "import asyncio\n",
    "from pynq import Overlay, allocate, Interrupt\n",
    "import numpy as np\n",
    "\n",
    "# Load overlay\n",
    "ol = Overlay(\"sistema.bit\")\n",
    "\n",
    "# Configure your buffers and IP as usual\n",
    "size = 8192\n",
    "input_buffer = allocate(shape=(size,), dtype=np.float32)\n",
    "output_buffer = allocate(shape=(size,), dtype=np.float32)\n",
    "input_buffer[:] = np.random.rand(size).astype(np.float32)\n",
    "gain = np.float32(2.0)\n",
    "\n",
    "kr = ol.array_gain_0\n",
    "kr.write(kr.register_map.input_r_1.address, input_buffer.physical_address)\n",
    "kr.write(kr.register_map.output_r_1.address, output_buffer.physical_address)\n",
    "gain_int = int(np.frombuffer(gain.tobytes(), dtype=np.uint32)[0])\n",
    "kr.write(kr.register_map.gain.address, gain_int)\n",
    "\n",
    "# Instantiate the interrupt using the name from the block design\n",
    "irq = Interrupt(\"axi_intc_0/intr\")\n",
    "\n",
    "# Define an asynchronous coroutine to wait for the interrupt\n",
    "async def wait_for_interrupt():\n",
    "    await irq.wait()  # This will block until the interrupt is triggered\n",
    "    print(\"Interrupt received! Kernel computation completed.\")\n",
    "    # Optionally, print results or process buffers\n",
    "    print(\"First 10 input values :\", input_buffer[:10])\n",
    "    print(\"First 10 output values:\", output_buffer[:10])\n",
    "    print(\"Gain used              :\", gain)\n",
    "    irq.clear()  # Clear the interrupt flag\n",
    "\n",
    "# Schedule the asynchronous interrupt wait\n",
    "asyncio.get_event_loop().create_task(wait_for_interrupt())\n",
    "\n",
    "# Start the kernel computation\n",
    "kr.register_map.CTRL.AP_START = 1\n"
   ]
  },
  {
   "cell_type": "code",
   "execution_count": null,
   "id": "c4e6e726-7606-4e57-98a3-c935fee599de",
   "metadata": {},
   "outputs": [],
   "source": []
  }
 ],
 "metadata": {
  "kernelspec": {
   "display_name": "Python 3 (ipykernel)",
   "language": "python",
   "name": "python3"
  },
  "language_info": {
   "codemirror_mode": {
    "name": "ipython",
    "version": 3
   },
   "file_extension": ".py",
   "mimetype": "text/x-python",
   "name": "python",
   "nbconvert_exporter": "python",
   "pygments_lexer": "ipython3",
   "version": "3.10.12"
  }
 },
 "nbformat": 4,
 "nbformat_minor": 5
}
