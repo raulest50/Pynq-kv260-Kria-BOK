{
 "cells": [
  {
   "cell_type": "code",
   "execution_count": 8,
   "id": "b4d64d87-e480-4318-9f90-6858c7e9f64d",
   "metadata": {},
   "outputs": [],
   "source": [
    "from pynq import Overlay, allocate\n",
    "import numpy as np\n",
    "import time\n",
    "\n",
    "# Load the overlay (replace with the correct path if needed)\n",
    "ol = Overlay(\"sistema.bit\")"
   ]
  },
  {
   "cell_type": "code",
   "execution_count": 9,
   "id": "16c20d52-a10d-4813-b29b-b4f3cc1c50ce",
   "metadata": {},
   "outputs": [
    {
     "data": {
      "text/plain": [
       "['PSDDR',\n",
       " '__class__',\n",
       " '__delattr__',\n",
       " '__dict__',\n",
       " '__dir__',\n",
       " '__doc__',\n",
       " '__eq__',\n",
       " '__format__',\n",
       " '__ge__',\n",
       " '__getattr__',\n",
       " '__getattribute__',\n",
       " '__gt__',\n",
       " '__hash__',\n",
       " '__init__',\n",
       " '__init_subclass__',\n",
       " '__le__',\n",
       " '__lt__',\n",
       " '__module__',\n",
       " '__ne__',\n",
       " '__new__',\n",
       " '__reduce__',\n",
       " '__reduce_ex__',\n",
       " '__repr__',\n",
       " '__setattr__',\n",
       " '__sizeof__',\n",
       " '__str__',\n",
       " '__subclasshook__',\n",
       " '__weakref__',\n",
       " '_deepcopy_dict_from',\n",
       " '_ip_map',\n",
       " '_register_drivers',\n",
       " 'array_gain_0',\n",
       " 'axi_intc_0',\n",
       " 'binfile_name',\n",
       " 'bit_data',\n",
       " 'bitfile_name',\n",
       " 'clock_dict',\n",
       " 'device',\n",
       " 'download',\n",
       " 'dtbo',\n",
       " 'firmware_path',\n",
       " 'free',\n",
       " 'gen_cache',\n",
       " 'gpio_dict',\n",
       " 'hierarchy_dict',\n",
       " 'ignore_version',\n",
       " 'insert_dtbo',\n",
       " 'interrupt_controllers',\n",
       " 'interrupt_pins',\n",
       " 'ip_dict',\n",
       " 'is_loaded',\n",
       " 'load_ip_data',\n",
       " 'mem_dict',\n",
       " 'parser',\n",
       " 'partial',\n",
       " 'pr_dict',\n",
       " 'pr_download',\n",
       " 'remove_dtbo',\n",
       " 'reset',\n",
       " 'systemgraph',\n",
       " 'timestamp',\n",
       " 'zynq_ultra_ps_e_0']"
      ]
     },
     "execution_count": 9,
     "metadata": {},
     "output_type": "execute_result"
    }
   ],
   "source": [
    "dir(ol)"
   ]
  },
  {
   "cell_type": "code",
   "execution_count": 10,
   "id": "591fd2c2-6145-4da4-a492-016e4216c4c1",
   "metadata": {},
   "outputs": [
    {
     "name": "stdout",
     "output_type": "stream",
     "text": [
      "Help on method free in module pynq.overlay:\n",
      "\n",
      "free() method of pynq.overlay.Overlay instance\n",
      "\n"
     ]
    }
   ],
   "source": [
    "help(ol.free)"
   ]
  },
  {
   "cell_type": "code",
   "execution_count": 11,
   "id": "d8788314-a033-429f-98e2-316ce58a7ade",
   "metadata": {},
   "outputs": [],
   "source": [
    "# Define the array size: 2^13 = 8192 elements\n",
    "size = 8192\n",
    "\n",
    "# Allocate contiguous memory for input and output buffers\n",
    "input_buffer = allocate(shape=(size,), dtype=np.float32)\n",
    "output_buffer = allocate(shape=(size,), dtype=np.float32)\n",
    "\n",
    "# Initialize input data (for example, with random numbers)\n",
    "input_buffer[:] = np.random.rand(size).astype(np.float32)\n",
    "gain = np.float32(2.0)  # Set your gain value"
   ]
  },
  {
   "cell_type": "code",
   "execution_count": 12,
   "id": "d9a138ee-c5cc-4085-9166-afc557807400",
   "metadata": {},
   "outputs": [
    {
     "data": {
      "text/plain": [
       "RegisterMap {\n",
       "  CTRL = Register(AP_START=0, AP_DONE=0, AP_IDLE=1, AP_READY=0, RESERVED_1=0, AUTO_RESTART=0, RESERVED_2=0, INTERRUPT=0, RESERVED_3=0),\n",
       "  GIER = Register(Enable=0, RESERVED=0),\n",
       "  IP_IER = Register(CHAN0_INT_EN=0, CHAN1_INT_EN=0, RESERVED_0=0),\n",
       "  IP_ISR = Register(CHAN0_INT_ST=0, CHAN1_INT_ST=0, RESERVED_0=0),\n",
       "  input_r_1 = Register(input_r=write-only),\n",
       "  input_r_2 = Register(input_r=write-only),\n",
       "  output_r_1 = Register(output_r=write-only),\n",
       "  output_r_2 = Register(output_r=write-only),\n",
       "  gain = Register(gain=write-only)\n",
       "}"
      ]
     },
     "execution_count": 12,
     "metadata": {},
     "output_type": "execute_result"
    }
   ],
   "source": [
    "kr = ol.array_gain_0\n",
    "kr.register_map"
   ]
  },
  {
   "cell_type": "code",
   "execution_count": 13,
   "id": "052ba20e-5f03-4592-8728-67eb1aff42b5",
   "metadata": {},
   "outputs": [
    {
     "name": "stdout",
     "output_type": "stream",
     "text": [
      "First 10 input values  : [0.331142   0.8920735  0.8433798  0.82268065 0.28207535 0.7442016\n",
      " 0.30375603 0.69301593 0.28749317 0.6999363 ]\n",
      "First 10 output values : [0. 0. 0. 0. 0. 0. 0. 0. 0. 0.]\n",
      "Gain used              : 2.0\n"
     ]
    }
   ],
   "source": [
    "# Write the physical addresses and parameter to the registers:\n",
    "kr.write(0x10, input_buffer.physical_address)\n",
    "\n",
    "# Convert the float 'gain' into its 32-bit integer representation and cast to int:\n",
    "gain_int = int(np.frombuffer(gain.tobytes(), dtype=np.uint32)[0])\n",
    "kr.write(0x28, gain_int)\n",
    "\n",
    "kr.write(0x1c, output_buffer.physical_address)\n",
    "\n",
    "# Start the kernel by writing '1' to the control register at offset 0x00\n",
    "kr.write(0x00, 0x01)\n",
    "\n",
    "# Poll the control register until the kernel sets the \"done\" flag (usually bit 1)\n",
    "while (kr.read(0x00) & 0x2) == 0:\n",
    "    time.sleep(0.001)\n",
    "\n",
    "# Now, output_buffer should contain the results (each element multiplied by 'gain')\n",
    "print(\"First 10 input values  :\", input_buffer[:10])\n",
    "print(\"First 10 output values :\", output_buffer[:10])\n",
    "print(\"Gain used              :\", gain)\n",
    "\n",
    "# When finished, free the allocated buffers (if desired)\n",
    "input_buffer.freebuffer()\n",
    "output_buffer.freebuffer()"
   ]
  },
  {
   "cell_type": "code",
   "execution_count": 14,
   "id": "9703d762-9aa7-441b-93cf-8bd28555a39b",
   "metadata": {},
   "outputs": [
    {
     "data": {
      "text/plain": [
       "'0x28'"
      ]
     },
     "execution_count": 14,
     "metadata": {},
     "output_type": "execute_result"
    }
   ],
   "source": [
    "hex(kr.register_map.gain.address)"
   ]
  },
  {
   "cell_type": "code",
   "execution_count": 15,
   "id": "12e8ef46-5723-488e-be60-873a0f475ef0",
   "metadata": {},
   "outputs": [
    {
     "data": {
      "text/plain": [
       "'0x10'"
      ]
     },
     "execution_count": 15,
     "metadata": {},
     "output_type": "execute_result"
    }
   ],
   "source": [
    "hex(kr.register_map.input_r_1.address)"
   ]
  },
  {
   "cell_type": "code",
   "execution_count": 16,
   "id": "a0fdcca8-0615-49ff-a449-92f9bbbfadaa",
   "metadata": {},
   "outputs": [
    {
     "data": {
      "text/plain": [
       "'0x1c'"
      ]
     },
     "execution_count": 16,
     "metadata": {},
     "output_type": "execute_result"
    }
   ],
   "source": [
    "hex(kr.register_map.output_r_1.address)"
   ]
  },
  {
   "cell_type": "code",
   "execution_count": null,
   "id": "9aeaa1e2-bcbf-47c9-b1d7-18a3d1ce3bdc",
   "metadata": {},
   "outputs": [],
   "source": []
  }
 ],
 "metadata": {
  "kernelspec": {
   "display_name": "Python 3 (ipykernel)",
   "language": "python",
   "name": "python3"
  },
  "language_info": {
   "codemirror_mode": {
    "name": "ipython",
    "version": 3
   },
   "file_extension": ".py",
   "mimetype": "text/x-python",
   "name": "python",
   "nbconvert_exporter": "python",
   "pygments_lexer": "ipython3",
   "version": "3.10.12"
  }
 },
 "nbformat": 4,
 "nbformat_minor": 5
}
